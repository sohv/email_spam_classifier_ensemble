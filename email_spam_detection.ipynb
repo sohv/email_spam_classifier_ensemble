{
  "cells": [
    {
      "cell_type": "code",
      "execution_count": 3,
      "metadata": {
        "id": "BSRMpMT-4F5g"
      },
      "outputs": [],
      "source": [
        "import pandas as pd"
      ]
    },
    {
      "cell_type": "code",
      "execution_count": 4,
      "metadata": {
        "id": "5pAHbAxb4MLr"
      },
      "outputs": [],
      "source": [
        "df = pd.read_csv('enron_spam_data.csv')"
      ]
    },
    {
      "cell_type": "code",
      "execution_count": 5,
      "metadata": {
        "colab": {
          "base_uri": "https://localhost:8080/",
          "height": 736
        },
        "id": "IJq3iIqw4dTS",
        "outputId": "7abb1ebf-3494-4149-91b7-d8e24b62023e"
      },
      "outputs": [
        {
          "data": {
            "text/html": [
              "<div>\n",
              "<style scoped>\n",
              "    .dataframe tbody tr th:only-of-type {\n",
              "        vertical-align: middle;\n",
              "    }\n",
              "\n",
              "    .dataframe tbody tr th {\n",
              "        vertical-align: top;\n",
              "    }\n",
              "\n",
              "    .dataframe thead th {\n",
              "        text-align: right;\n",
              "    }\n",
              "</style>\n",
              "<table border=\"1\" class=\"dataframe\">\n",
              "  <thead>\n",
              "    <tr style=\"text-align: right;\">\n",
              "      <th></th>\n",
              "      <th>Message ID</th>\n",
              "      <th>Subject</th>\n",
              "      <th>Message</th>\n",
              "      <th>Spam/Ham</th>\n",
              "      <th>Date</th>\n",
              "    </tr>\n",
              "  </thead>\n",
              "  <tbody>\n",
              "    <tr>\n",
              "      <th>0</th>\n",
              "      <td>0</td>\n",
              "      <td>christmas tree farm pictures</td>\n",
              "      <td>NaN</td>\n",
              "      <td>ham</td>\n",
              "      <td>1999-12-10</td>\n",
              "    </tr>\n",
              "    <tr>\n",
              "      <th>1</th>\n",
              "      <td>1</td>\n",
              "      <td>vastar resources , inc .</td>\n",
              "      <td>gary , production from the high island larger ...</td>\n",
              "      <td>ham</td>\n",
              "      <td>1999-12-13</td>\n",
              "    </tr>\n",
              "    <tr>\n",
              "      <th>2</th>\n",
              "      <td>2</td>\n",
              "      <td>calpine daily gas nomination</td>\n",
              "      <td>- calpine daily gas nomination 1 . doc</td>\n",
              "      <td>ham</td>\n",
              "      <td>1999-12-14</td>\n",
              "    </tr>\n",
              "    <tr>\n",
              "      <th>3</th>\n",
              "      <td>3</td>\n",
              "      <td>re : issue</td>\n",
              "      <td>fyi - see note below - already done .\\nstella\\...</td>\n",
              "      <td>ham</td>\n",
              "      <td>1999-12-14</td>\n",
              "    </tr>\n",
              "    <tr>\n",
              "      <th>4</th>\n",
              "      <td>4</td>\n",
              "      <td>meter 7268 nov allocation</td>\n",
              "      <td>fyi .\\n- - - - - - - - - - - - - - - - - - - -...</td>\n",
              "      <td>ham</td>\n",
              "      <td>1999-12-14</td>\n",
              "    </tr>\n",
              "    <tr>\n",
              "      <th>...</th>\n",
              "      <td>...</td>\n",
              "      <td>...</td>\n",
              "      <td>...</td>\n",
              "      <td>...</td>\n",
              "      <td>...</td>\n",
              "    </tr>\n",
              "    <tr>\n",
              "      <th>33711</th>\n",
              "      <td>33711</td>\n",
              "      <td>= ? iso - 8859 - 1 ? q ? good _ news _ c = eda...</td>\n",
              "      <td>hello , welcome to gigapharm onlinne shop .\\np...</td>\n",
              "      <td>spam</td>\n",
              "      <td>2005-07-29</td>\n",
              "    </tr>\n",
              "    <tr>\n",
              "      <th>33712</th>\n",
              "      <td>33712</td>\n",
              "      <td>all prescript medicines are on special . to be...</td>\n",
              "      <td>i got it earlier than expected and it was wrap...</td>\n",
              "      <td>spam</td>\n",
              "      <td>2005-07-29</td>\n",
              "    </tr>\n",
              "    <tr>\n",
              "      <th>33713</th>\n",
              "      <td>33713</td>\n",
              "      <td>the next generation online pharmacy .</td>\n",
              "      <td>are you ready to rock on ? let the man in you ...</td>\n",
              "      <td>spam</td>\n",
              "      <td>2005-07-30</td>\n",
              "    </tr>\n",
              "    <tr>\n",
              "      <th>33714</th>\n",
              "      <td>33714</td>\n",
              "      <td>bloow in 5 - 10 times the time</td>\n",
              "      <td>learn how to last 5 - 10 times longer in\\nbed ...</td>\n",
              "      <td>spam</td>\n",
              "      <td>2005-07-30</td>\n",
              "    </tr>\n",
              "    <tr>\n",
              "      <th>33715</th>\n",
              "      <td>33715</td>\n",
              "      <td>dear sir , i am interested in it</td>\n",
              "      <td>hi : )\\ndo you need some softwares ? i can giv...</td>\n",
              "      <td>spam</td>\n",
              "      <td>2005-07-31</td>\n",
              "    </tr>\n",
              "  </tbody>\n",
              "</table>\n",
              "<p>33716 rows × 5 columns</p>\n",
              "</div>"
            ],
            "text/plain": [
              "       Message ID                                            Subject  \\\n",
              "0               0                       christmas tree farm pictures   \n",
              "1               1                           vastar resources , inc .   \n",
              "2               2                       calpine daily gas nomination   \n",
              "3               3                                         re : issue   \n",
              "4               4                          meter 7268 nov allocation   \n",
              "...           ...                                                ...   \n",
              "33711       33711  = ? iso - 8859 - 1 ? q ? good _ news _ c = eda...   \n",
              "33712       33712  all prescript medicines are on special . to be...   \n",
              "33713       33713              the next generation online pharmacy .   \n",
              "33714       33714                     bloow in 5 - 10 times the time   \n",
              "33715       33715                   dear sir , i am interested in it   \n",
              "\n",
              "                                                 Message Spam/Ham        Date  \n",
              "0                                                    NaN      ham  1999-12-10  \n",
              "1      gary , production from the high island larger ...      ham  1999-12-13  \n",
              "2                 - calpine daily gas nomination 1 . doc      ham  1999-12-14  \n",
              "3      fyi - see note below - already done .\\nstella\\...      ham  1999-12-14  \n",
              "4      fyi .\\n- - - - - - - - - - - - - - - - - - - -...      ham  1999-12-14  \n",
              "...                                                  ...      ...         ...  \n",
              "33711  hello , welcome to gigapharm onlinne shop .\\np...     spam  2005-07-29  \n",
              "33712  i got it earlier than expected and it was wrap...     spam  2005-07-29  \n",
              "33713  are you ready to rock on ? let the man in you ...     spam  2005-07-30  \n",
              "33714  learn how to last 5 - 10 times longer in\\nbed ...     spam  2005-07-30  \n",
              "33715  hi : )\\ndo you need some softwares ? i can giv...     spam  2005-07-31  \n",
              "\n",
              "[33716 rows x 5 columns]"
            ]
          },
          "execution_count": 5,
          "metadata": {},
          "output_type": "execute_result"
        }
      ],
      "source": [
        "df"
      ]
    },
    {
      "cell_type": "code",
      "execution_count": 6,
      "metadata": {
        "id": "6e_Js5-f4ec6"
      },
      "outputs": [],
      "source": [
        "df = df.drop(['Message ID', 'Date'], axis=1)"
      ]
    },
    {
      "cell_type": "code",
      "execution_count": 7,
      "metadata": {
        "colab": {
          "base_uri": "https://localhost:8080/",
          "height": 563
        },
        "id": "eQmfLxeZ4oGV",
        "outputId": "148e07cd-c83e-4966-bc2c-5fafe31c8808"
      },
      "outputs": [
        {
          "data": {
            "text/html": [
              "<div>\n",
              "<style scoped>\n",
              "    .dataframe tbody tr th:only-of-type {\n",
              "        vertical-align: middle;\n",
              "    }\n",
              "\n",
              "    .dataframe tbody tr th {\n",
              "        vertical-align: top;\n",
              "    }\n",
              "\n",
              "    .dataframe thead th {\n",
              "        text-align: right;\n",
              "    }\n",
              "</style>\n",
              "<table border=\"1\" class=\"dataframe\">\n",
              "  <thead>\n",
              "    <tr style=\"text-align: right;\">\n",
              "      <th></th>\n",
              "      <th>Subject</th>\n",
              "      <th>Message</th>\n",
              "      <th>Spam/Ham</th>\n",
              "    </tr>\n",
              "  </thead>\n",
              "  <tbody>\n",
              "    <tr>\n",
              "      <th>0</th>\n",
              "      <td>christmas tree farm pictures</td>\n",
              "      <td>NaN</td>\n",
              "      <td>ham</td>\n",
              "    </tr>\n",
              "    <tr>\n",
              "      <th>1</th>\n",
              "      <td>vastar resources , inc .</td>\n",
              "      <td>gary , production from the high island larger ...</td>\n",
              "      <td>ham</td>\n",
              "    </tr>\n",
              "    <tr>\n",
              "      <th>2</th>\n",
              "      <td>calpine daily gas nomination</td>\n",
              "      <td>- calpine daily gas nomination 1 . doc</td>\n",
              "      <td>ham</td>\n",
              "    </tr>\n",
              "    <tr>\n",
              "      <th>3</th>\n",
              "      <td>re : issue</td>\n",
              "      <td>fyi - see note below - already done .\\nstella\\...</td>\n",
              "      <td>ham</td>\n",
              "    </tr>\n",
              "    <tr>\n",
              "      <th>4</th>\n",
              "      <td>meter 7268 nov allocation</td>\n",
              "      <td>fyi .\\n- - - - - - - - - - - - - - - - - - - -...</td>\n",
              "      <td>ham</td>\n",
              "    </tr>\n",
              "    <tr>\n",
              "      <th>...</th>\n",
              "      <td>...</td>\n",
              "      <td>...</td>\n",
              "      <td>...</td>\n",
              "    </tr>\n",
              "    <tr>\n",
              "      <th>33711</th>\n",
              "      <td>= ? iso - 8859 - 1 ? q ? good _ news _ c = eda...</td>\n",
              "      <td>hello , welcome to gigapharm onlinne shop .\\np...</td>\n",
              "      <td>spam</td>\n",
              "    </tr>\n",
              "    <tr>\n",
              "      <th>33712</th>\n",
              "      <td>all prescript medicines are on special . to be...</td>\n",
              "      <td>i got it earlier than expected and it was wrap...</td>\n",
              "      <td>spam</td>\n",
              "    </tr>\n",
              "    <tr>\n",
              "      <th>33713</th>\n",
              "      <td>the next generation online pharmacy .</td>\n",
              "      <td>are you ready to rock on ? let the man in you ...</td>\n",
              "      <td>spam</td>\n",
              "    </tr>\n",
              "    <tr>\n",
              "      <th>33714</th>\n",
              "      <td>bloow in 5 - 10 times the time</td>\n",
              "      <td>learn how to last 5 - 10 times longer in\\nbed ...</td>\n",
              "      <td>spam</td>\n",
              "    </tr>\n",
              "    <tr>\n",
              "      <th>33715</th>\n",
              "      <td>dear sir , i am interested in it</td>\n",
              "      <td>hi : )\\ndo you need some softwares ? i can giv...</td>\n",
              "      <td>spam</td>\n",
              "    </tr>\n",
              "  </tbody>\n",
              "</table>\n",
              "<p>33716 rows × 3 columns</p>\n",
              "</div>"
            ],
            "text/plain": [
              "                                                 Subject  \\\n",
              "0                           christmas tree farm pictures   \n",
              "1                               vastar resources , inc .   \n",
              "2                           calpine daily gas nomination   \n",
              "3                                             re : issue   \n",
              "4                              meter 7268 nov allocation   \n",
              "...                                                  ...   \n",
              "33711  = ? iso - 8859 - 1 ? q ? good _ news _ c = eda...   \n",
              "33712  all prescript medicines are on special . to be...   \n",
              "33713              the next generation online pharmacy .   \n",
              "33714                     bloow in 5 - 10 times the time   \n",
              "33715                   dear sir , i am interested in it   \n",
              "\n",
              "                                                 Message Spam/Ham  \n",
              "0                                                    NaN      ham  \n",
              "1      gary , production from the high island larger ...      ham  \n",
              "2                 - calpine daily gas nomination 1 . doc      ham  \n",
              "3      fyi - see note below - already done .\\nstella\\...      ham  \n",
              "4      fyi .\\n- - - - - - - - - - - - - - - - - - - -...      ham  \n",
              "...                                                  ...      ...  \n",
              "33711  hello , welcome to gigapharm onlinne shop .\\np...     spam  \n",
              "33712  i got it earlier than expected and it was wrap...     spam  \n",
              "33713  are you ready to rock on ? let the man in you ...     spam  \n",
              "33714  learn how to last 5 - 10 times longer in\\nbed ...     spam  \n",
              "33715  hi : )\\ndo you need some softwares ? i can giv...     spam  \n",
              "\n",
              "[33716 rows x 3 columns]"
            ]
          },
          "execution_count": 7,
          "metadata": {},
          "output_type": "execute_result"
        }
      ],
      "source": [
        "df"
      ]
    },
    {
      "cell_type": "code",
      "execution_count": 8,
      "metadata": {
        "id": "d1YbSTrw4ux3"
      },
      "outputs": [],
      "source": [
        "df = df.rename(columns={'Spam/Ham': 'Type'})"
      ]
    },
    {
      "cell_type": "code",
      "execution_count": 9,
      "metadata": {
        "id": "yeN7S-I45E5T"
      },
      "outputs": [],
      "source": [
        "from sklearn.preprocessing import LabelEncoder\n",
        "\n",
        "encoder = LabelEncoder()\n",
        "encoder.fit(df['Type'])\n",
        "df['Type'] = encoder.transform(df['Type'])"
      ]
    },
    {
      "cell_type": "code",
      "execution_count": 10,
      "metadata": {
        "colab": {
          "base_uri": "https://localhost:8080/",
          "height": 563
        },
        "id": "dAlqDtNQ5LBH",
        "outputId": "1ad3fe33-04f5-4ea1-a9f9-3ed993c71416"
      },
      "outputs": [
        {
          "data": {
            "text/html": [
              "<div>\n",
              "<style scoped>\n",
              "    .dataframe tbody tr th:only-of-type {\n",
              "        vertical-align: middle;\n",
              "    }\n",
              "\n",
              "    .dataframe tbody tr th {\n",
              "        vertical-align: top;\n",
              "    }\n",
              "\n",
              "    .dataframe thead th {\n",
              "        text-align: right;\n",
              "    }\n",
              "</style>\n",
              "<table border=\"1\" class=\"dataframe\">\n",
              "  <thead>\n",
              "    <tr style=\"text-align: right;\">\n",
              "      <th></th>\n",
              "      <th>Subject</th>\n",
              "      <th>Message</th>\n",
              "      <th>Type</th>\n",
              "    </tr>\n",
              "  </thead>\n",
              "  <tbody>\n",
              "    <tr>\n",
              "      <th>0</th>\n",
              "      <td>christmas tree farm pictures</td>\n",
              "      <td>NaN</td>\n",
              "      <td>0</td>\n",
              "    </tr>\n",
              "    <tr>\n",
              "      <th>1</th>\n",
              "      <td>vastar resources , inc .</td>\n",
              "      <td>gary , production from the high island larger ...</td>\n",
              "      <td>0</td>\n",
              "    </tr>\n",
              "    <tr>\n",
              "      <th>2</th>\n",
              "      <td>calpine daily gas nomination</td>\n",
              "      <td>- calpine daily gas nomination 1 . doc</td>\n",
              "      <td>0</td>\n",
              "    </tr>\n",
              "    <tr>\n",
              "      <th>3</th>\n",
              "      <td>re : issue</td>\n",
              "      <td>fyi - see note below - already done .\\nstella\\...</td>\n",
              "      <td>0</td>\n",
              "    </tr>\n",
              "    <tr>\n",
              "      <th>4</th>\n",
              "      <td>meter 7268 nov allocation</td>\n",
              "      <td>fyi .\\n- - - - - - - - - - - - - - - - - - - -...</td>\n",
              "      <td>0</td>\n",
              "    </tr>\n",
              "    <tr>\n",
              "      <th>...</th>\n",
              "      <td>...</td>\n",
              "      <td>...</td>\n",
              "      <td>...</td>\n",
              "    </tr>\n",
              "    <tr>\n",
              "      <th>33711</th>\n",
              "      <td>= ? iso - 8859 - 1 ? q ? good _ news _ c = eda...</td>\n",
              "      <td>hello , welcome to gigapharm onlinne shop .\\np...</td>\n",
              "      <td>1</td>\n",
              "    </tr>\n",
              "    <tr>\n",
              "      <th>33712</th>\n",
              "      <td>all prescript medicines are on special . to be...</td>\n",
              "      <td>i got it earlier than expected and it was wrap...</td>\n",
              "      <td>1</td>\n",
              "    </tr>\n",
              "    <tr>\n",
              "      <th>33713</th>\n",
              "      <td>the next generation online pharmacy .</td>\n",
              "      <td>are you ready to rock on ? let the man in you ...</td>\n",
              "      <td>1</td>\n",
              "    </tr>\n",
              "    <tr>\n",
              "      <th>33714</th>\n",
              "      <td>bloow in 5 - 10 times the time</td>\n",
              "      <td>learn how to last 5 - 10 times longer in\\nbed ...</td>\n",
              "      <td>1</td>\n",
              "    </tr>\n",
              "    <tr>\n",
              "      <th>33715</th>\n",
              "      <td>dear sir , i am interested in it</td>\n",
              "      <td>hi : )\\ndo you need some softwares ? i can giv...</td>\n",
              "      <td>1</td>\n",
              "    </tr>\n",
              "  </tbody>\n",
              "</table>\n",
              "<p>33716 rows × 3 columns</p>\n",
              "</div>"
            ],
            "text/plain": [
              "                                                 Subject  \\\n",
              "0                           christmas tree farm pictures   \n",
              "1                               vastar resources , inc .   \n",
              "2                           calpine daily gas nomination   \n",
              "3                                             re : issue   \n",
              "4                              meter 7268 nov allocation   \n",
              "...                                                  ...   \n",
              "33711  = ? iso - 8859 - 1 ? q ? good _ news _ c = eda...   \n",
              "33712  all prescript medicines are on special . to be...   \n",
              "33713              the next generation online pharmacy .   \n",
              "33714                     bloow in 5 - 10 times the time   \n",
              "33715                   dear sir , i am interested in it   \n",
              "\n",
              "                                                 Message  Type  \n",
              "0                                                    NaN     0  \n",
              "1      gary , production from the high island larger ...     0  \n",
              "2                 - calpine daily gas nomination 1 . doc     0  \n",
              "3      fyi - see note below - already done .\\nstella\\...     0  \n",
              "4      fyi .\\n- - - - - - - - - - - - - - - - - - - -...     0  \n",
              "...                                                  ...   ...  \n",
              "33711  hello , welcome to gigapharm onlinne shop .\\np...     1  \n",
              "33712  i got it earlier than expected and it was wrap...     1  \n",
              "33713  are you ready to rock on ? let the man in you ...     1  \n",
              "33714  learn how to last 5 - 10 times longer in\\nbed ...     1  \n",
              "33715  hi : )\\ndo you need some softwares ? i can giv...     1  \n",
              "\n",
              "[33716 rows x 3 columns]"
            ]
          },
          "execution_count": 10,
          "metadata": {},
          "output_type": "execute_result"
        }
      ],
      "source": [
        "df"
      ]
    },
    {
      "cell_type": "code",
      "execution_count": 11,
      "metadata": {
        "colab": {
          "base_uri": "https://localhost:8080/"
        },
        "id": "FQxCRvwf5gS7",
        "outputId": "25a85d25-981e-43a5-b209-863658ca7000"
      },
      "outputs": [
        {
          "data": {
            "text/plain": [
              "(33716, 3)"
            ]
          },
          "execution_count": 11,
          "metadata": {},
          "output_type": "execute_result"
        }
      ],
      "source": [
        "df.shape"
      ]
    },
    {
      "cell_type": "code",
      "execution_count": 12,
      "metadata": {
        "colab": {
          "base_uri": "https://localhost:8080/",
          "height": 178
        },
        "id": "hp14ijji5hnC",
        "outputId": "e3dfed9f-bac2-44f5-b307-12fe59640a07"
      },
      "outputs": [
        {
          "data": {
            "text/plain": [
              "Subject    object\n",
              "Message    object\n",
              "Type        int64\n",
              "dtype: object"
            ]
          },
          "execution_count": 12,
          "metadata": {},
          "output_type": "execute_result"
        }
      ],
      "source": [
        "df.dtypes"
      ]
    },
    {
      "cell_type": "code",
      "execution_count": 13,
      "metadata": {
        "colab": {
          "base_uri": "https://localhost:8080/"
        },
        "id": "2QD1o_b25Mmv",
        "outputId": "69acb500-fb8b-4420-8700-ded8dfd7281a"
      },
      "outputs": [
        {
          "name": "stdout",
          "output_type": "stream",
          "text": [
            "      Subject                                            Message  Type\n",
            "3699      NaN  holiday specials on : didrex and nasacort\\n60 ...     1\n",
            "3708      NaN  the only solution to penis\\nenlargement\\nnzzbq...     1\n",
            "3749      NaN                                                NaN     1\n",
            "3777      NaN  to _ cc _ default _ handler\\nsubject : [ spam ...     1\n",
            "3820      NaN  discount meds right from home\\nvalium , xanax ...     1\n",
            "...       ...                                                ...   ...\n",
            "32833     NaN  why paily for pobrne ?\\nas a lrpim \" itecd ti ...     1\n",
            "32835     NaN  are youu stil 3 l pa margin - right : 8 \" alig...     1\n",
            "32898     NaN  pre - ejeculators :\\nplease read here for info...     1\n",
            "32926     NaN  there ' s never been a better time to re _ fin...     1\n",
            "33155     NaN  sud euler gangling phoneme billy birdlike dutc...     1\n",
            "\n",
            "[289 rows x 3 columns]\n",
            "                                                 Subject Message  Type\n",
            "0                           christmas tree farm pictures     NaN     0\n",
            "183    day 26 - txu lonestar called on 20000 at carthage     NaN     0\n",
            "199    is this fri feb 11 a problem for taking vacati...     NaN     0\n",
            "304    http : / / www . pge - texas . com / www / gtt...     NaN     0\n",
            "1655                                             revised     NaN     0\n",
            "...                                                  ...     ...   ...\n",
            "27999                           ripley house photo album     NaN     0\n",
            "28722  http : / / hrweb . enron . com / benefits / fo...     NaN     0\n",
            "29059                          h : eyeforenergy briefing     NaN     0\n",
            "29100                          h : eyeforenergy briefing     NaN     0\n",
            "29109                                            website     NaN     0\n",
            "\n",
            "[371 rows x 3 columns]\n"
          ]
        }
      ],
      "source": [
        "subject_nan = df[df['Subject'].isnull()]\n",
        "message_nan = df[df['Message'].isnull()]\n",
        "print(subject_nan)\n",
        "print(message_nan)"
      ]
    },
    {
      "cell_type": "code",
      "execution_count": 14,
      "metadata": {
        "id": "_mqZUtnA5aqe"
      },
      "outputs": [],
      "source": [
        "# drop NaN values\n",
        "df = df.dropna(subset=['Subject', 'Message'])"
      ]
    },
    {
      "cell_type": "code",
      "execution_count": 15,
      "metadata": {
        "colab": {
          "base_uri": "https://localhost:8080/"
        },
        "id": "goXcB9Pz5z06",
        "outputId": "21dd22a2-f55c-47f7-e2ae-127532946f74"
      },
      "outputs": [
        {
          "data": {
            "text/plain": [
              "(33107, 3)"
            ]
          },
          "execution_count": 15,
          "metadata": {},
          "output_type": "execute_result"
        }
      ],
      "source": [
        "df.shape"
      ]
    },
    {
      "cell_type": "code",
      "execution_count": 16,
      "metadata": {
        "colab": {
          "base_uri": "https://localhost:8080/",
          "height": 580
        },
        "id": "5pgn1SiK52UK",
        "outputId": "328854b3-4a21-4eba-fe96-52fe061f21ca"
      },
      "outputs": [
        {
          "data": {
            "text/html": [
              "<div>\n",
              "<style scoped>\n",
              "    .dataframe tbody tr th:only-of-type {\n",
              "        vertical-align: middle;\n",
              "    }\n",
              "\n",
              "    .dataframe tbody tr th {\n",
              "        vertical-align: top;\n",
              "    }\n",
              "\n",
              "    .dataframe thead th {\n",
              "        text-align: right;\n",
              "    }\n",
              "</style>\n",
              "<table border=\"1\" class=\"dataframe\">\n",
              "  <thead>\n",
              "    <tr style=\"text-align: right;\">\n",
              "      <th></th>\n",
              "      <th>Subject</th>\n",
              "      <th>Message</th>\n",
              "      <th>Type</th>\n",
              "    </tr>\n",
              "  </thead>\n",
              "  <tbody>\n",
              "    <tr>\n",
              "      <th>1</th>\n",
              "      <td>vastar resources , inc .</td>\n",
              "      <td>gary , production from the high island larger ...</td>\n",
              "      <td>0</td>\n",
              "    </tr>\n",
              "    <tr>\n",
              "      <th>2</th>\n",
              "      <td>calpine daily gas nomination</td>\n",
              "      <td>- calpine daily gas nomination 1 . doc</td>\n",
              "      <td>0</td>\n",
              "    </tr>\n",
              "    <tr>\n",
              "      <th>3</th>\n",
              "      <td>re : issue</td>\n",
              "      <td>fyi - see note below - already done .\\nstella\\...</td>\n",
              "      <td>0</td>\n",
              "    </tr>\n",
              "    <tr>\n",
              "      <th>4</th>\n",
              "      <td>meter 7268 nov allocation</td>\n",
              "      <td>fyi .\\n- - - - - - - - - - - - - - - - - - - -...</td>\n",
              "      <td>0</td>\n",
              "    </tr>\n",
              "    <tr>\n",
              "      <th>5</th>\n",
              "      <td>mcmullen gas for 11 / 99</td>\n",
              "      <td>jackie ,\\nsince the inlet to 3 river plant is ...</td>\n",
              "      <td>0</td>\n",
              "    </tr>\n",
              "    <tr>\n",
              "      <th>...</th>\n",
              "      <td>...</td>\n",
              "      <td>...</td>\n",
              "      <td>...</td>\n",
              "    </tr>\n",
              "    <tr>\n",
              "      <th>33711</th>\n",
              "      <td>= ? iso - 8859 - 1 ? q ? good _ news _ c = eda...</td>\n",
              "      <td>hello , welcome to gigapharm onlinne shop .\\np...</td>\n",
              "      <td>1</td>\n",
              "    </tr>\n",
              "    <tr>\n",
              "      <th>33712</th>\n",
              "      <td>all prescript medicines are on special . to be...</td>\n",
              "      <td>i got it earlier than expected and it was wrap...</td>\n",
              "      <td>1</td>\n",
              "    </tr>\n",
              "    <tr>\n",
              "      <th>33713</th>\n",
              "      <td>the next generation online pharmacy .</td>\n",
              "      <td>are you ready to rock on ? let the man in you ...</td>\n",
              "      <td>1</td>\n",
              "    </tr>\n",
              "    <tr>\n",
              "      <th>33714</th>\n",
              "      <td>bloow in 5 - 10 times the time</td>\n",
              "      <td>learn how to last 5 - 10 times longer in\\nbed ...</td>\n",
              "      <td>1</td>\n",
              "    </tr>\n",
              "    <tr>\n",
              "      <th>33715</th>\n",
              "      <td>dear sir , i am interested in it</td>\n",
              "      <td>hi : )\\ndo you need some softwares ? i can giv...</td>\n",
              "      <td>1</td>\n",
              "    </tr>\n",
              "  </tbody>\n",
              "</table>\n",
              "<p>33107 rows × 3 columns</p>\n",
              "</div>"
            ],
            "text/plain": [
              "                                                 Subject  \\\n",
              "1                               vastar resources , inc .   \n",
              "2                           calpine daily gas nomination   \n",
              "3                                             re : issue   \n",
              "4                              meter 7268 nov allocation   \n",
              "5                               mcmullen gas for 11 / 99   \n",
              "...                                                  ...   \n",
              "33711  = ? iso - 8859 - 1 ? q ? good _ news _ c = eda...   \n",
              "33712  all prescript medicines are on special . to be...   \n",
              "33713              the next generation online pharmacy .   \n",
              "33714                     bloow in 5 - 10 times the time   \n",
              "33715                   dear sir , i am interested in it   \n",
              "\n",
              "                                                 Message  Type  \n",
              "1      gary , production from the high island larger ...     0  \n",
              "2                 - calpine daily gas nomination 1 . doc     0  \n",
              "3      fyi - see note below - already done .\\nstella\\...     0  \n",
              "4      fyi .\\n- - - - - - - - - - - - - - - - - - - -...     0  \n",
              "5      jackie ,\\nsince the inlet to 3 river plant is ...     0  \n",
              "...                                                  ...   ...  \n",
              "33711  hello , welcome to gigapharm onlinne shop .\\np...     1  \n",
              "33712  i got it earlier than expected and it was wrap...     1  \n",
              "33713  are you ready to rock on ? let the man in you ...     1  \n",
              "33714  learn how to last 5 - 10 times longer in\\nbed ...     1  \n",
              "33715  hi : )\\ndo you need some softwares ? i can giv...     1  \n",
              "\n",
              "[33107 rows x 3 columns]"
            ]
          },
          "execution_count": 16,
          "metadata": {},
          "output_type": "execute_result"
        }
      ],
      "source": [
        "df"
      ]
    },
    {
      "cell_type": "code",
      "execution_count": 17,
      "metadata": {
        "id": "iCBwGzBF9PKk"
      },
      "outputs": [],
      "source": [
        "# import TfidfVectorizer\n",
        "from sklearn.feature_extraction.text import TfidfVectorizer"
      ]
    },
    {
      "cell_type": "code",
      "execution_count": 18,
      "metadata": {
        "id": "XkLj1l9xK1uh"
      },
      "outputs": [],
      "source": [
        "# create a TF-IDF vectorizer object\n",
        "vectorizer = TfidfVectorizer()"
      ]
    },
    {
      "cell_type": "code",
      "execution_count": 19,
      "metadata": {
        "colab": {
          "base_uri": "https://localhost:8080/",
          "height": 80
        },
        "id": "Wf7UwIU9LGoM",
        "outputId": "70f61799-857b-42dc-c938-c25ec70551f0"
      },
      "outputs": [
        {
          "data": {
            "text/html": [
              "<style>#sk-container-id-1 {\n",
              "  /* Definition of color scheme common for light and dark mode */\n",
              "  --sklearn-color-text: black;\n",
              "  --sklearn-color-line: gray;\n",
              "  /* Definition of color scheme for unfitted estimators */\n",
              "  --sklearn-color-unfitted-level-0: #fff5e6;\n",
              "  --sklearn-color-unfitted-level-1: #f6e4d2;\n",
              "  --sklearn-color-unfitted-level-2: #ffe0b3;\n",
              "  --sklearn-color-unfitted-level-3: chocolate;\n",
              "  /* Definition of color scheme for fitted estimators */\n",
              "  --sklearn-color-fitted-level-0: #f0f8ff;\n",
              "  --sklearn-color-fitted-level-1: #d4ebff;\n",
              "  --sklearn-color-fitted-level-2: #b3dbfd;\n",
              "  --sklearn-color-fitted-level-3: cornflowerblue;\n",
              "\n",
              "  /* Specific color for light theme */\n",
              "  --sklearn-color-text-on-default-background: var(--sg-text-color, var(--theme-code-foreground, var(--jp-content-font-color1, black)));\n",
              "  --sklearn-color-background: var(--sg-background-color, var(--theme-background, var(--jp-layout-color0, white)));\n",
              "  --sklearn-color-border-box: var(--sg-text-color, var(--theme-code-foreground, var(--jp-content-font-color1, black)));\n",
              "  --sklearn-color-icon: #696969;\n",
              "\n",
              "  @media (prefers-color-scheme: dark) {\n",
              "    /* Redefinition of color scheme for dark theme */\n",
              "    --sklearn-color-text-on-default-background: var(--sg-text-color, var(--theme-code-foreground, var(--jp-content-font-color1, white)));\n",
              "    --sklearn-color-background: var(--sg-background-color, var(--theme-background, var(--jp-layout-color0, #111)));\n",
              "    --sklearn-color-border-box: var(--sg-text-color, var(--theme-code-foreground, var(--jp-content-font-color1, white)));\n",
              "    --sklearn-color-icon: #878787;\n",
              "  }\n",
              "}\n",
              "\n",
              "#sk-container-id-1 {\n",
              "  color: var(--sklearn-color-text);\n",
              "}\n",
              "\n",
              "#sk-container-id-1 pre {\n",
              "  padding: 0;\n",
              "}\n",
              "\n",
              "#sk-container-id-1 input.sk-hidden--visually {\n",
              "  border: 0;\n",
              "  clip: rect(1px 1px 1px 1px);\n",
              "  clip: rect(1px, 1px, 1px, 1px);\n",
              "  height: 1px;\n",
              "  margin: -1px;\n",
              "  overflow: hidden;\n",
              "  padding: 0;\n",
              "  position: absolute;\n",
              "  width: 1px;\n",
              "}\n",
              "\n",
              "#sk-container-id-1 div.sk-dashed-wrapped {\n",
              "  border: 1px dashed var(--sklearn-color-line);\n",
              "  margin: 0 0.4em 0.5em 0.4em;\n",
              "  box-sizing: border-box;\n",
              "  padding-bottom: 0.4em;\n",
              "  background-color: var(--sklearn-color-background);\n",
              "}\n",
              "\n",
              "#sk-container-id-1 div.sk-container {\n",
              "  /* jupyter's `normalize.less` sets `[hidden] { display: none; }`\n",
              "     but bootstrap.min.css set `[hidden] { display: none !important; }`\n",
              "     so we also need the `!important` here to be able to override the\n",
              "     default hidden behavior on the sphinx rendered scikit-learn.org.\n",
              "     See: https://github.com/scikit-learn/scikit-learn/issues/21755 */\n",
              "  display: inline-block !important;\n",
              "  position: relative;\n",
              "}\n",
              "\n",
              "#sk-container-id-1 div.sk-text-repr-fallback {\n",
              "  display: none;\n",
              "}\n",
              "\n",
              "div.sk-parallel-item,\n",
              "div.sk-serial,\n",
              "div.sk-item {\n",
              "  /* draw centered vertical line to link estimators */\n",
              "  background-image: linear-gradient(var(--sklearn-color-text-on-default-background), var(--sklearn-color-text-on-default-background));\n",
              "  background-size: 2px 100%;\n",
              "  background-repeat: no-repeat;\n",
              "  background-position: center center;\n",
              "}\n",
              "\n",
              "/* Parallel-specific style estimator block */\n",
              "\n",
              "#sk-container-id-1 div.sk-parallel-item::after {\n",
              "  content: \"\";\n",
              "  width: 100%;\n",
              "  border-bottom: 2px solid var(--sklearn-color-text-on-default-background);\n",
              "  flex-grow: 1;\n",
              "}\n",
              "\n",
              "#sk-container-id-1 div.sk-parallel {\n",
              "  display: flex;\n",
              "  align-items: stretch;\n",
              "  justify-content: center;\n",
              "  background-color: var(--sklearn-color-background);\n",
              "  position: relative;\n",
              "}\n",
              "\n",
              "#sk-container-id-1 div.sk-parallel-item {\n",
              "  display: flex;\n",
              "  flex-direction: column;\n",
              "}\n",
              "\n",
              "#sk-container-id-1 div.sk-parallel-item:first-child::after {\n",
              "  align-self: flex-end;\n",
              "  width: 50%;\n",
              "}\n",
              "\n",
              "#sk-container-id-1 div.sk-parallel-item:last-child::after {\n",
              "  align-self: flex-start;\n",
              "  width: 50%;\n",
              "}\n",
              "\n",
              "#sk-container-id-1 div.sk-parallel-item:only-child::after {\n",
              "  width: 0;\n",
              "}\n",
              "\n",
              "/* Serial-specific style estimator block */\n",
              "\n",
              "#sk-container-id-1 div.sk-serial {\n",
              "  display: flex;\n",
              "  flex-direction: column;\n",
              "  align-items: center;\n",
              "  background-color: var(--sklearn-color-background);\n",
              "  padding-right: 1em;\n",
              "  padding-left: 1em;\n",
              "}\n",
              "\n",
              "\n",
              "/* Toggleable style: style used for estimator/Pipeline/ColumnTransformer box that is\n",
              "clickable and can be expanded/collapsed.\n",
              "- Pipeline and ColumnTransformer use this feature and define the default style\n",
              "- Estimators will overwrite some part of the style using the `sk-estimator` class\n",
              "*/\n",
              "\n",
              "/* Pipeline and ColumnTransformer style (default) */\n",
              "\n",
              "#sk-container-id-1 div.sk-toggleable {\n",
              "  /* Default theme specific background. It is overwritten whether we have a\n",
              "  specific estimator or a Pipeline/ColumnTransformer */\n",
              "  background-color: var(--sklearn-color-background);\n",
              "}\n",
              "\n",
              "/* Toggleable label */\n",
              "#sk-container-id-1 label.sk-toggleable__label {\n",
              "  cursor: pointer;\n",
              "  display: block;\n",
              "  width: 100%;\n",
              "  margin-bottom: 0;\n",
              "  padding: 0.5em;\n",
              "  box-sizing: border-box;\n",
              "  text-align: center;\n",
              "}\n",
              "\n",
              "#sk-container-id-1 label.sk-toggleable__label-arrow:before {\n",
              "  /* Arrow on the left of the label */\n",
              "  content: \"▸\";\n",
              "  float: left;\n",
              "  margin-right: 0.25em;\n",
              "  color: var(--sklearn-color-icon);\n",
              "}\n",
              "\n",
              "#sk-container-id-1 label.sk-toggleable__label-arrow:hover:before {\n",
              "  color: var(--sklearn-color-text);\n",
              "}\n",
              "\n",
              "/* Toggleable content - dropdown */\n",
              "\n",
              "#sk-container-id-1 div.sk-toggleable__content {\n",
              "  max-height: 0;\n",
              "  max-width: 0;\n",
              "  overflow: hidden;\n",
              "  text-align: left;\n",
              "  /* unfitted */\n",
              "  background-color: var(--sklearn-color-unfitted-level-0);\n",
              "}\n",
              "\n",
              "#sk-container-id-1 div.sk-toggleable__content.fitted {\n",
              "  /* fitted */\n",
              "  background-color: var(--sklearn-color-fitted-level-0);\n",
              "}\n",
              "\n",
              "#sk-container-id-1 div.sk-toggleable__content pre {\n",
              "  margin: 0.2em;\n",
              "  border-radius: 0.25em;\n",
              "  color: var(--sklearn-color-text);\n",
              "  /* unfitted */\n",
              "  background-color: var(--sklearn-color-unfitted-level-0);\n",
              "}\n",
              "\n",
              "#sk-container-id-1 div.sk-toggleable__content.fitted pre {\n",
              "  /* unfitted */\n",
              "  background-color: var(--sklearn-color-fitted-level-0);\n",
              "}\n",
              "\n",
              "#sk-container-id-1 input.sk-toggleable__control:checked~div.sk-toggleable__content {\n",
              "  /* Expand drop-down */\n",
              "  max-height: 200px;\n",
              "  max-width: 100%;\n",
              "  overflow: auto;\n",
              "}\n",
              "\n",
              "#sk-container-id-1 input.sk-toggleable__control:checked~label.sk-toggleable__label-arrow:before {\n",
              "  content: \"▾\";\n",
              "}\n",
              "\n",
              "/* Pipeline/ColumnTransformer-specific style */\n",
              "\n",
              "#sk-container-id-1 div.sk-label input.sk-toggleable__control:checked~label.sk-toggleable__label {\n",
              "  color: var(--sklearn-color-text);\n",
              "  background-color: var(--sklearn-color-unfitted-level-2);\n",
              "}\n",
              "\n",
              "#sk-container-id-1 div.sk-label.fitted input.sk-toggleable__control:checked~label.sk-toggleable__label {\n",
              "  background-color: var(--sklearn-color-fitted-level-2);\n",
              "}\n",
              "\n",
              "/* Estimator-specific style */\n",
              "\n",
              "/* Colorize estimator box */\n",
              "#sk-container-id-1 div.sk-estimator input.sk-toggleable__control:checked~label.sk-toggleable__label {\n",
              "  /* unfitted */\n",
              "  background-color: var(--sklearn-color-unfitted-level-2);\n",
              "}\n",
              "\n",
              "#sk-container-id-1 div.sk-estimator.fitted input.sk-toggleable__control:checked~label.sk-toggleable__label {\n",
              "  /* fitted */\n",
              "  background-color: var(--sklearn-color-fitted-level-2);\n",
              "}\n",
              "\n",
              "#sk-container-id-1 div.sk-label label.sk-toggleable__label,\n",
              "#sk-container-id-1 div.sk-label label {\n",
              "  /* The background is the default theme color */\n",
              "  color: var(--sklearn-color-text-on-default-background);\n",
              "}\n",
              "\n",
              "/* On hover, darken the color of the background */\n",
              "#sk-container-id-1 div.sk-label:hover label.sk-toggleable__label {\n",
              "  color: var(--sklearn-color-text);\n",
              "  background-color: var(--sklearn-color-unfitted-level-2);\n",
              "}\n",
              "\n",
              "/* Label box, darken color on hover, fitted */\n",
              "#sk-container-id-1 div.sk-label.fitted:hover label.sk-toggleable__label.fitted {\n",
              "  color: var(--sklearn-color-text);\n",
              "  background-color: var(--sklearn-color-fitted-level-2);\n",
              "}\n",
              "\n",
              "/* Estimator label */\n",
              "\n",
              "#sk-container-id-1 div.sk-label label {\n",
              "  font-family: monospace;\n",
              "  font-weight: bold;\n",
              "  display: inline-block;\n",
              "  line-height: 1.2em;\n",
              "}\n",
              "\n",
              "#sk-container-id-1 div.sk-label-container {\n",
              "  text-align: center;\n",
              "}\n",
              "\n",
              "/* Estimator-specific */\n",
              "#sk-container-id-1 div.sk-estimator {\n",
              "  font-family: monospace;\n",
              "  border: 1px dotted var(--sklearn-color-border-box);\n",
              "  border-radius: 0.25em;\n",
              "  box-sizing: border-box;\n",
              "  margin-bottom: 0.5em;\n",
              "  /* unfitted */\n",
              "  background-color: var(--sklearn-color-unfitted-level-0);\n",
              "}\n",
              "\n",
              "#sk-container-id-1 div.sk-estimator.fitted {\n",
              "  /* fitted */\n",
              "  background-color: var(--sklearn-color-fitted-level-0);\n",
              "}\n",
              "\n",
              "/* on hover */\n",
              "#sk-container-id-1 div.sk-estimator:hover {\n",
              "  /* unfitted */\n",
              "  background-color: var(--sklearn-color-unfitted-level-2);\n",
              "}\n",
              "\n",
              "#sk-container-id-1 div.sk-estimator.fitted:hover {\n",
              "  /* fitted */\n",
              "  background-color: var(--sklearn-color-fitted-level-2);\n",
              "}\n",
              "\n",
              "/* Specification for estimator info (e.g. \"i\" and \"?\") */\n",
              "\n",
              "/* Common style for \"i\" and \"?\" */\n",
              "\n",
              ".sk-estimator-doc-link,\n",
              "a:link.sk-estimator-doc-link,\n",
              "a:visited.sk-estimator-doc-link {\n",
              "  float: right;\n",
              "  font-size: smaller;\n",
              "  line-height: 1em;\n",
              "  font-family: monospace;\n",
              "  background-color: var(--sklearn-color-background);\n",
              "  border-radius: 1em;\n",
              "  height: 1em;\n",
              "  width: 1em;\n",
              "  text-decoration: none !important;\n",
              "  margin-left: 1ex;\n",
              "  /* unfitted */\n",
              "  border: var(--sklearn-color-unfitted-level-1) 1pt solid;\n",
              "  color: var(--sklearn-color-unfitted-level-1);\n",
              "}\n",
              "\n",
              ".sk-estimator-doc-link.fitted,\n",
              "a:link.sk-estimator-doc-link.fitted,\n",
              "a:visited.sk-estimator-doc-link.fitted {\n",
              "  /* fitted */\n",
              "  border: var(--sklearn-color-fitted-level-1) 1pt solid;\n",
              "  color: var(--sklearn-color-fitted-level-1);\n",
              "}\n",
              "\n",
              "/* On hover */\n",
              "div.sk-estimator:hover .sk-estimator-doc-link:hover,\n",
              ".sk-estimator-doc-link:hover,\n",
              "div.sk-label-container:hover .sk-estimator-doc-link:hover,\n",
              ".sk-estimator-doc-link:hover {\n",
              "  /* unfitted */\n",
              "  background-color: var(--sklearn-color-unfitted-level-3);\n",
              "  color: var(--sklearn-color-background);\n",
              "  text-decoration: none;\n",
              "}\n",
              "\n",
              "div.sk-estimator.fitted:hover .sk-estimator-doc-link.fitted:hover,\n",
              ".sk-estimator-doc-link.fitted:hover,\n",
              "div.sk-label-container:hover .sk-estimator-doc-link.fitted:hover,\n",
              ".sk-estimator-doc-link.fitted:hover {\n",
              "  /* fitted */\n",
              "  background-color: var(--sklearn-color-fitted-level-3);\n",
              "  color: var(--sklearn-color-background);\n",
              "  text-decoration: none;\n",
              "}\n",
              "\n",
              "/* Span, style for the box shown on hovering the info icon */\n",
              ".sk-estimator-doc-link span {\n",
              "  display: none;\n",
              "  z-index: 9999;\n",
              "  position: relative;\n",
              "  font-weight: normal;\n",
              "  right: .2ex;\n",
              "  padding: .5ex;\n",
              "  margin: .5ex;\n",
              "  width: min-content;\n",
              "  min-width: 20ex;\n",
              "  max-width: 50ex;\n",
              "  color: var(--sklearn-color-text);\n",
              "  box-shadow: 2pt 2pt 4pt #999;\n",
              "  /* unfitted */\n",
              "  background: var(--sklearn-color-unfitted-level-0);\n",
              "  border: .5pt solid var(--sklearn-color-unfitted-level-3);\n",
              "}\n",
              "\n",
              ".sk-estimator-doc-link.fitted span {\n",
              "  /* fitted */\n",
              "  background: var(--sklearn-color-fitted-level-0);\n",
              "  border: var(--sklearn-color-fitted-level-3);\n",
              "}\n",
              "\n",
              ".sk-estimator-doc-link:hover span {\n",
              "  display: block;\n",
              "}\n",
              "\n",
              "/* \"?\"-specific style due to the `<a>` HTML tag */\n",
              "\n",
              "#sk-container-id-1 a.estimator_doc_link {\n",
              "  float: right;\n",
              "  font-size: 1rem;\n",
              "  line-height: 1em;\n",
              "  font-family: monospace;\n",
              "  background-color: var(--sklearn-color-background);\n",
              "  border-radius: 1rem;\n",
              "  height: 1rem;\n",
              "  width: 1rem;\n",
              "  text-decoration: none;\n",
              "  /* unfitted */\n",
              "  color: var(--sklearn-color-unfitted-level-1);\n",
              "  border: var(--sklearn-color-unfitted-level-1) 1pt solid;\n",
              "}\n",
              "\n",
              "#sk-container-id-1 a.estimator_doc_link.fitted {\n",
              "  /* fitted */\n",
              "  border: var(--sklearn-color-fitted-level-1) 1pt solid;\n",
              "  color: var(--sklearn-color-fitted-level-1);\n",
              "}\n",
              "\n",
              "/* On hover */\n",
              "#sk-container-id-1 a.estimator_doc_link:hover {\n",
              "  /* unfitted */\n",
              "  background-color: var(--sklearn-color-unfitted-level-3);\n",
              "  color: var(--sklearn-color-background);\n",
              "  text-decoration: none;\n",
              "}\n",
              "\n",
              "#sk-container-id-1 a.estimator_doc_link.fitted:hover {\n",
              "  /* fitted */\n",
              "  background-color: var(--sklearn-color-fitted-level-3);\n",
              "}\n",
              "</style><div id=\"sk-container-id-1\" class=\"sk-top-container\"><div class=\"sk-text-repr-fallback\"><pre>TfidfVectorizer()</pre><b>In a Jupyter environment, please rerun this cell to show the HTML representation or trust the notebook. <br />On GitHub, the HTML representation is unable to render, please try loading this page with nbviewer.org.</b></div><div class=\"sk-container\" hidden><div class=\"sk-item\"><div class=\"sk-estimator fitted sk-toggleable\"><input class=\"sk-toggleable__control sk-hidden--visually\" id=\"sk-estimator-id-1\" type=\"checkbox\" checked><label for=\"sk-estimator-id-1\" class=\"sk-toggleable__label fitted sk-toggleable__label-arrow fitted\">&nbsp;&nbsp;TfidfVectorizer<a class=\"sk-estimator-doc-link fitted\" rel=\"noreferrer\" target=\"_blank\" href=\"https://scikit-learn.org/1.5/modules/generated/sklearn.feature_extraction.text.TfidfVectorizer.html\">?<span>Documentation for TfidfVectorizer</span></a><span class=\"sk-estimator-doc-link fitted\">i<span>Fitted</span></span></label><div class=\"sk-toggleable__content fitted\"><pre>TfidfVectorizer()</pre></div> </div></div></div></div>"
            ],
            "text/plain": [
              "TfidfVectorizer()"
            ]
          },
          "execution_count": 19,
          "metadata": {},
          "output_type": "execute_result"
        }
      ],
      "source": [
        "all_text = df['Subject'].astype(str) + ' ' + df['Message'].astype(str)\n",
        "vectorizer.fit(all_text)"
      ]
    },
    {
      "cell_type": "code",
      "execution_count": 20,
      "metadata": {
        "colab": {
          "base_uri": "https://localhost:8080/"
        },
        "id": "WM1bB7bOLNBU",
        "outputId": "5b74842e-4216-449e-febb-f70677984ee0"
      },
      "outputs": [
        {
          "data": {
            "text/plain": [
              "['tfidf_vectorizer.joblib']"
            ]
          },
          "execution_count": 20,
          "metadata": {},
          "output_type": "execute_result"
        }
      ],
      "source": [
        "from joblib import dump\n",
        "dump(vectorizer, 'tfidf_vectorizer.joblib')"
      ]
    },
    {
      "cell_type": "code",
      "execution_count": 21,
      "metadata": {
        "colab": {
          "base_uri": "https://localhost:8080/",
          "height": 580
        },
        "id": "jgWnx4FtLhQ7",
        "outputId": "0a0c9a5f-3ae1-42be-b249-c291d25d6a76"
      },
      "outputs": [
        {
          "data": {
            "text/html": [
              "<div>\n",
              "<style scoped>\n",
              "    .dataframe tbody tr th:only-of-type {\n",
              "        vertical-align: middle;\n",
              "    }\n",
              "\n",
              "    .dataframe tbody tr th {\n",
              "        vertical-align: top;\n",
              "    }\n",
              "\n",
              "    .dataframe thead th {\n",
              "        text-align: right;\n",
              "    }\n",
              "</style>\n",
              "<table border=\"1\" class=\"dataframe\">\n",
              "  <thead>\n",
              "    <tr style=\"text-align: right;\">\n",
              "      <th></th>\n",
              "      <th>Subject</th>\n",
              "      <th>Message</th>\n",
              "      <th>Type</th>\n",
              "    </tr>\n",
              "  </thead>\n",
              "  <tbody>\n",
              "    <tr>\n",
              "      <th>1</th>\n",
              "      <td>vastar resources , inc .</td>\n",
              "      <td>gary , production from the high island larger ...</td>\n",
              "      <td>0</td>\n",
              "    </tr>\n",
              "    <tr>\n",
              "      <th>2</th>\n",
              "      <td>calpine daily gas nomination</td>\n",
              "      <td>- calpine daily gas nomination 1 . doc</td>\n",
              "      <td>0</td>\n",
              "    </tr>\n",
              "    <tr>\n",
              "      <th>3</th>\n",
              "      <td>re : issue</td>\n",
              "      <td>fyi - see note below - already done .\\nstella\\...</td>\n",
              "      <td>0</td>\n",
              "    </tr>\n",
              "    <tr>\n",
              "      <th>4</th>\n",
              "      <td>meter 7268 nov allocation</td>\n",
              "      <td>fyi .\\n- - - - - - - - - - - - - - - - - - - -...</td>\n",
              "      <td>0</td>\n",
              "    </tr>\n",
              "    <tr>\n",
              "      <th>5</th>\n",
              "      <td>mcmullen gas for 11 / 99</td>\n",
              "      <td>jackie ,\\nsince the inlet to 3 river plant is ...</td>\n",
              "      <td>0</td>\n",
              "    </tr>\n",
              "    <tr>\n",
              "      <th>...</th>\n",
              "      <td>...</td>\n",
              "      <td>...</td>\n",
              "      <td>...</td>\n",
              "    </tr>\n",
              "    <tr>\n",
              "      <th>33711</th>\n",
              "      <td>= ? iso - 8859 - 1 ? q ? good _ news _ c = eda...</td>\n",
              "      <td>hello , welcome to gigapharm onlinne shop .\\np...</td>\n",
              "      <td>1</td>\n",
              "    </tr>\n",
              "    <tr>\n",
              "      <th>33712</th>\n",
              "      <td>all prescript medicines are on special . to be...</td>\n",
              "      <td>i got it earlier than expected and it was wrap...</td>\n",
              "      <td>1</td>\n",
              "    </tr>\n",
              "    <tr>\n",
              "      <th>33713</th>\n",
              "      <td>the next generation online pharmacy .</td>\n",
              "      <td>are you ready to rock on ? let the man in you ...</td>\n",
              "      <td>1</td>\n",
              "    </tr>\n",
              "    <tr>\n",
              "      <th>33714</th>\n",
              "      <td>bloow in 5 - 10 times the time</td>\n",
              "      <td>learn how to last 5 - 10 times longer in\\nbed ...</td>\n",
              "      <td>1</td>\n",
              "    </tr>\n",
              "    <tr>\n",
              "      <th>33715</th>\n",
              "      <td>dear sir , i am interested in it</td>\n",
              "      <td>hi : )\\ndo you need some softwares ? i can giv...</td>\n",
              "      <td>1</td>\n",
              "    </tr>\n",
              "  </tbody>\n",
              "</table>\n",
              "<p>33107 rows × 3 columns</p>\n",
              "</div>"
            ],
            "text/plain": [
              "                                                 Subject  \\\n",
              "1                               vastar resources , inc .   \n",
              "2                           calpine daily gas nomination   \n",
              "3                                             re : issue   \n",
              "4                              meter 7268 nov allocation   \n",
              "5                               mcmullen gas for 11 / 99   \n",
              "...                                                  ...   \n",
              "33711  = ? iso - 8859 - 1 ? q ? good _ news _ c = eda...   \n",
              "33712  all prescript medicines are on special . to be...   \n",
              "33713              the next generation online pharmacy .   \n",
              "33714                     bloow in 5 - 10 times the time   \n",
              "33715                   dear sir , i am interested in it   \n",
              "\n",
              "                                                 Message  Type  \n",
              "1      gary , production from the high island larger ...     0  \n",
              "2                 - calpine daily gas nomination 1 . doc     0  \n",
              "3      fyi - see note below - already done .\\nstella\\...     0  \n",
              "4      fyi .\\n- - - - - - - - - - - - - - - - - - - -...     0  \n",
              "5      jackie ,\\nsince the inlet to 3 river plant is ...     0  \n",
              "...                                                  ...   ...  \n",
              "33711  hello , welcome to gigapharm onlinne shop .\\np...     1  \n",
              "33712  i got it earlier than expected and it was wrap...     1  \n",
              "33713  are you ready to rock on ? let the man in you ...     1  \n",
              "33714  learn how to last 5 - 10 times longer in\\nbed ...     1  \n",
              "33715  hi : )\\ndo you need some softwares ? i can giv...     1  \n",
              "\n",
              "[33107 rows x 3 columns]"
            ]
          },
          "execution_count": 21,
          "metadata": {},
          "output_type": "execute_result"
        }
      ],
      "source": [
        "df"
      ]
    },
    {
      "cell_type": "code",
      "execution_count": 66,
      "metadata": {},
      "outputs": [],
      "source": [
        "df.to_csv('output.csv', index=False)"
      ]
    },
    {
      "cell_type": "code",
      "execution_count": 22,
      "metadata": {
        "id": "w7ZRPYZbLm7M"
      },
      "outputs": [],
      "source": [
        "#from scipy.sparse import hstack\n",
        "#combined_features = hstack([subject_features, message_features])"
      ]
    },
    {
      "cell_type": "markdown",
      "metadata": {
        "id": "48ye5xAZMPyi"
      },
      "source": [
        "# Model Development"
      ]
    },
    {
      "cell_type": "code",
      "execution_count": 23,
      "metadata": {
        "id": "d9HYEdTpMFVL"
      },
      "outputs": [],
      "source": [
        "# train the model\n",
        "from sklearn.model_selection import train_test_split\n",
        "\n",
        "X = vectorizer.transform(all_text)\n",
        "y = df['Type']\n",
        "\n",
        "X_train, X_test, y_train, y_test = train_test_split(X, y, test_size=0.2, random_state=42)"
      ]
    },
    {
      "cell_type": "markdown",
      "metadata": {
        "id": "C5hQfyYpMSBC"
      },
      "source": [
        "## Logistic Regression"
      ]
    },
    {
      "cell_type": "code",
      "execution_count": 24,
      "metadata": {
        "colab": {
          "base_uri": "https://localhost:8080/",
          "height": 80
        },
        "id": "P0Yd2PWsMLcf",
        "outputId": "3a1266c5-91f9-4937-97b2-e25ded02123b"
      },
      "outputs": [
        {
          "data": {
            "text/html": [
              "<style>#sk-container-id-2 {\n",
              "  /* Definition of color scheme common for light and dark mode */\n",
              "  --sklearn-color-text: black;\n",
              "  --sklearn-color-line: gray;\n",
              "  /* Definition of color scheme for unfitted estimators */\n",
              "  --sklearn-color-unfitted-level-0: #fff5e6;\n",
              "  --sklearn-color-unfitted-level-1: #f6e4d2;\n",
              "  --sklearn-color-unfitted-level-2: #ffe0b3;\n",
              "  --sklearn-color-unfitted-level-3: chocolate;\n",
              "  /* Definition of color scheme for fitted estimators */\n",
              "  --sklearn-color-fitted-level-0: #f0f8ff;\n",
              "  --sklearn-color-fitted-level-1: #d4ebff;\n",
              "  --sklearn-color-fitted-level-2: #b3dbfd;\n",
              "  --sklearn-color-fitted-level-3: cornflowerblue;\n",
              "\n",
              "  /* Specific color for light theme */\n",
              "  --sklearn-color-text-on-default-background: var(--sg-text-color, var(--theme-code-foreground, var(--jp-content-font-color1, black)));\n",
              "  --sklearn-color-background: var(--sg-background-color, var(--theme-background, var(--jp-layout-color0, white)));\n",
              "  --sklearn-color-border-box: var(--sg-text-color, var(--theme-code-foreground, var(--jp-content-font-color1, black)));\n",
              "  --sklearn-color-icon: #696969;\n",
              "\n",
              "  @media (prefers-color-scheme: dark) {\n",
              "    /* Redefinition of color scheme for dark theme */\n",
              "    --sklearn-color-text-on-default-background: var(--sg-text-color, var(--theme-code-foreground, var(--jp-content-font-color1, white)));\n",
              "    --sklearn-color-background: var(--sg-background-color, var(--theme-background, var(--jp-layout-color0, #111)));\n",
              "    --sklearn-color-border-box: var(--sg-text-color, var(--theme-code-foreground, var(--jp-content-font-color1, white)));\n",
              "    --sklearn-color-icon: #878787;\n",
              "  }\n",
              "}\n",
              "\n",
              "#sk-container-id-2 {\n",
              "  color: var(--sklearn-color-text);\n",
              "}\n",
              "\n",
              "#sk-container-id-2 pre {\n",
              "  padding: 0;\n",
              "}\n",
              "\n",
              "#sk-container-id-2 input.sk-hidden--visually {\n",
              "  border: 0;\n",
              "  clip: rect(1px 1px 1px 1px);\n",
              "  clip: rect(1px, 1px, 1px, 1px);\n",
              "  height: 1px;\n",
              "  margin: -1px;\n",
              "  overflow: hidden;\n",
              "  padding: 0;\n",
              "  position: absolute;\n",
              "  width: 1px;\n",
              "}\n",
              "\n",
              "#sk-container-id-2 div.sk-dashed-wrapped {\n",
              "  border: 1px dashed var(--sklearn-color-line);\n",
              "  margin: 0 0.4em 0.5em 0.4em;\n",
              "  box-sizing: border-box;\n",
              "  padding-bottom: 0.4em;\n",
              "  background-color: var(--sklearn-color-background);\n",
              "}\n",
              "\n",
              "#sk-container-id-2 div.sk-container {\n",
              "  /* jupyter's `normalize.less` sets `[hidden] { display: none; }`\n",
              "     but bootstrap.min.css set `[hidden] { display: none !important; }`\n",
              "     so we also need the `!important` here to be able to override the\n",
              "     default hidden behavior on the sphinx rendered scikit-learn.org.\n",
              "     See: https://github.com/scikit-learn/scikit-learn/issues/21755 */\n",
              "  display: inline-block !important;\n",
              "  position: relative;\n",
              "}\n",
              "\n",
              "#sk-container-id-2 div.sk-text-repr-fallback {\n",
              "  display: none;\n",
              "}\n",
              "\n",
              "div.sk-parallel-item,\n",
              "div.sk-serial,\n",
              "div.sk-item {\n",
              "  /* draw centered vertical line to link estimators */\n",
              "  background-image: linear-gradient(var(--sklearn-color-text-on-default-background), var(--sklearn-color-text-on-default-background));\n",
              "  background-size: 2px 100%;\n",
              "  background-repeat: no-repeat;\n",
              "  background-position: center center;\n",
              "}\n",
              "\n",
              "/* Parallel-specific style estimator block */\n",
              "\n",
              "#sk-container-id-2 div.sk-parallel-item::after {\n",
              "  content: \"\";\n",
              "  width: 100%;\n",
              "  border-bottom: 2px solid var(--sklearn-color-text-on-default-background);\n",
              "  flex-grow: 1;\n",
              "}\n",
              "\n",
              "#sk-container-id-2 div.sk-parallel {\n",
              "  display: flex;\n",
              "  align-items: stretch;\n",
              "  justify-content: center;\n",
              "  background-color: var(--sklearn-color-background);\n",
              "  position: relative;\n",
              "}\n",
              "\n",
              "#sk-container-id-2 div.sk-parallel-item {\n",
              "  display: flex;\n",
              "  flex-direction: column;\n",
              "}\n",
              "\n",
              "#sk-container-id-2 div.sk-parallel-item:first-child::after {\n",
              "  align-self: flex-end;\n",
              "  width: 50%;\n",
              "}\n",
              "\n",
              "#sk-container-id-2 div.sk-parallel-item:last-child::after {\n",
              "  align-self: flex-start;\n",
              "  width: 50%;\n",
              "}\n",
              "\n",
              "#sk-container-id-2 div.sk-parallel-item:only-child::after {\n",
              "  width: 0;\n",
              "}\n",
              "\n",
              "/* Serial-specific style estimator block */\n",
              "\n",
              "#sk-container-id-2 div.sk-serial {\n",
              "  display: flex;\n",
              "  flex-direction: column;\n",
              "  align-items: center;\n",
              "  background-color: var(--sklearn-color-background);\n",
              "  padding-right: 1em;\n",
              "  padding-left: 1em;\n",
              "}\n",
              "\n",
              "\n",
              "/* Toggleable style: style used for estimator/Pipeline/ColumnTransformer box that is\n",
              "clickable and can be expanded/collapsed.\n",
              "- Pipeline and ColumnTransformer use this feature and define the default style\n",
              "- Estimators will overwrite some part of the style using the `sk-estimator` class\n",
              "*/\n",
              "\n",
              "/* Pipeline and ColumnTransformer style (default) */\n",
              "\n",
              "#sk-container-id-2 div.sk-toggleable {\n",
              "  /* Default theme specific background. It is overwritten whether we have a\n",
              "  specific estimator or a Pipeline/ColumnTransformer */\n",
              "  background-color: var(--sklearn-color-background);\n",
              "}\n",
              "\n",
              "/* Toggleable label */\n",
              "#sk-container-id-2 label.sk-toggleable__label {\n",
              "  cursor: pointer;\n",
              "  display: block;\n",
              "  width: 100%;\n",
              "  margin-bottom: 0;\n",
              "  padding: 0.5em;\n",
              "  box-sizing: border-box;\n",
              "  text-align: center;\n",
              "}\n",
              "\n",
              "#sk-container-id-2 label.sk-toggleable__label-arrow:before {\n",
              "  /* Arrow on the left of the label */\n",
              "  content: \"▸\";\n",
              "  float: left;\n",
              "  margin-right: 0.25em;\n",
              "  color: var(--sklearn-color-icon);\n",
              "}\n",
              "\n",
              "#sk-container-id-2 label.sk-toggleable__label-arrow:hover:before {\n",
              "  color: var(--sklearn-color-text);\n",
              "}\n",
              "\n",
              "/* Toggleable content - dropdown */\n",
              "\n",
              "#sk-container-id-2 div.sk-toggleable__content {\n",
              "  max-height: 0;\n",
              "  max-width: 0;\n",
              "  overflow: hidden;\n",
              "  text-align: left;\n",
              "  /* unfitted */\n",
              "  background-color: var(--sklearn-color-unfitted-level-0);\n",
              "}\n",
              "\n",
              "#sk-container-id-2 div.sk-toggleable__content.fitted {\n",
              "  /* fitted */\n",
              "  background-color: var(--sklearn-color-fitted-level-0);\n",
              "}\n",
              "\n",
              "#sk-container-id-2 div.sk-toggleable__content pre {\n",
              "  margin: 0.2em;\n",
              "  border-radius: 0.25em;\n",
              "  color: var(--sklearn-color-text);\n",
              "  /* unfitted */\n",
              "  background-color: var(--sklearn-color-unfitted-level-0);\n",
              "}\n",
              "\n",
              "#sk-container-id-2 div.sk-toggleable__content.fitted pre {\n",
              "  /* unfitted */\n",
              "  background-color: var(--sklearn-color-fitted-level-0);\n",
              "}\n",
              "\n",
              "#sk-container-id-2 input.sk-toggleable__control:checked~div.sk-toggleable__content {\n",
              "  /* Expand drop-down */\n",
              "  max-height: 200px;\n",
              "  max-width: 100%;\n",
              "  overflow: auto;\n",
              "}\n",
              "\n",
              "#sk-container-id-2 input.sk-toggleable__control:checked~label.sk-toggleable__label-arrow:before {\n",
              "  content: \"▾\";\n",
              "}\n",
              "\n",
              "/* Pipeline/ColumnTransformer-specific style */\n",
              "\n",
              "#sk-container-id-2 div.sk-label input.sk-toggleable__control:checked~label.sk-toggleable__label {\n",
              "  color: var(--sklearn-color-text);\n",
              "  background-color: var(--sklearn-color-unfitted-level-2);\n",
              "}\n",
              "\n",
              "#sk-container-id-2 div.sk-label.fitted input.sk-toggleable__control:checked~label.sk-toggleable__label {\n",
              "  background-color: var(--sklearn-color-fitted-level-2);\n",
              "}\n",
              "\n",
              "/* Estimator-specific style */\n",
              "\n",
              "/* Colorize estimator box */\n",
              "#sk-container-id-2 div.sk-estimator input.sk-toggleable__control:checked~label.sk-toggleable__label {\n",
              "  /* unfitted */\n",
              "  background-color: var(--sklearn-color-unfitted-level-2);\n",
              "}\n",
              "\n",
              "#sk-container-id-2 div.sk-estimator.fitted input.sk-toggleable__control:checked~label.sk-toggleable__label {\n",
              "  /* fitted */\n",
              "  background-color: var(--sklearn-color-fitted-level-2);\n",
              "}\n",
              "\n",
              "#sk-container-id-2 div.sk-label label.sk-toggleable__label,\n",
              "#sk-container-id-2 div.sk-label label {\n",
              "  /* The background is the default theme color */\n",
              "  color: var(--sklearn-color-text-on-default-background);\n",
              "}\n",
              "\n",
              "/* On hover, darken the color of the background */\n",
              "#sk-container-id-2 div.sk-label:hover label.sk-toggleable__label {\n",
              "  color: var(--sklearn-color-text);\n",
              "  background-color: var(--sklearn-color-unfitted-level-2);\n",
              "}\n",
              "\n",
              "/* Label box, darken color on hover, fitted */\n",
              "#sk-container-id-2 div.sk-label.fitted:hover label.sk-toggleable__label.fitted {\n",
              "  color: var(--sklearn-color-text);\n",
              "  background-color: var(--sklearn-color-fitted-level-2);\n",
              "}\n",
              "\n",
              "/* Estimator label */\n",
              "\n",
              "#sk-container-id-2 div.sk-label label {\n",
              "  font-family: monospace;\n",
              "  font-weight: bold;\n",
              "  display: inline-block;\n",
              "  line-height: 1.2em;\n",
              "}\n",
              "\n",
              "#sk-container-id-2 div.sk-label-container {\n",
              "  text-align: center;\n",
              "}\n",
              "\n",
              "/* Estimator-specific */\n",
              "#sk-container-id-2 div.sk-estimator {\n",
              "  font-family: monospace;\n",
              "  border: 1px dotted var(--sklearn-color-border-box);\n",
              "  border-radius: 0.25em;\n",
              "  box-sizing: border-box;\n",
              "  margin-bottom: 0.5em;\n",
              "  /* unfitted */\n",
              "  background-color: var(--sklearn-color-unfitted-level-0);\n",
              "}\n",
              "\n",
              "#sk-container-id-2 div.sk-estimator.fitted {\n",
              "  /* fitted */\n",
              "  background-color: var(--sklearn-color-fitted-level-0);\n",
              "}\n",
              "\n",
              "/* on hover */\n",
              "#sk-container-id-2 div.sk-estimator:hover {\n",
              "  /* unfitted */\n",
              "  background-color: var(--sklearn-color-unfitted-level-2);\n",
              "}\n",
              "\n",
              "#sk-container-id-2 div.sk-estimator.fitted:hover {\n",
              "  /* fitted */\n",
              "  background-color: var(--sklearn-color-fitted-level-2);\n",
              "}\n",
              "\n",
              "/* Specification for estimator info (e.g. \"i\" and \"?\") */\n",
              "\n",
              "/* Common style for \"i\" and \"?\" */\n",
              "\n",
              ".sk-estimator-doc-link,\n",
              "a:link.sk-estimator-doc-link,\n",
              "a:visited.sk-estimator-doc-link {\n",
              "  float: right;\n",
              "  font-size: smaller;\n",
              "  line-height: 1em;\n",
              "  font-family: monospace;\n",
              "  background-color: var(--sklearn-color-background);\n",
              "  border-radius: 1em;\n",
              "  height: 1em;\n",
              "  width: 1em;\n",
              "  text-decoration: none !important;\n",
              "  margin-left: 1ex;\n",
              "  /* unfitted */\n",
              "  border: var(--sklearn-color-unfitted-level-1) 1pt solid;\n",
              "  color: var(--sklearn-color-unfitted-level-1);\n",
              "}\n",
              "\n",
              ".sk-estimator-doc-link.fitted,\n",
              "a:link.sk-estimator-doc-link.fitted,\n",
              "a:visited.sk-estimator-doc-link.fitted {\n",
              "  /* fitted */\n",
              "  border: var(--sklearn-color-fitted-level-1) 1pt solid;\n",
              "  color: var(--sklearn-color-fitted-level-1);\n",
              "}\n",
              "\n",
              "/* On hover */\n",
              "div.sk-estimator:hover .sk-estimator-doc-link:hover,\n",
              ".sk-estimator-doc-link:hover,\n",
              "div.sk-label-container:hover .sk-estimator-doc-link:hover,\n",
              ".sk-estimator-doc-link:hover {\n",
              "  /* unfitted */\n",
              "  background-color: var(--sklearn-color-unfitted-level-3);\n",
              "  color: var(--sklearn-color-background);\n",
              "  text-decoration: none;\n",
              "}\n",
              "\n",
              "div.sk-estimator.fitted:hover .sk-estimator-doc-link.fitted:hover,\n",
              ".sk-estimator-doc-link.fitted:hover,\n",
              "div.sk-label-container:hover .sk-estimator-doc-link.fitted:hover,\n",
              ".sk-estimator-doc-link.fitted:hover {\n",
              "  /* fitted */\n",
              "  background-color: var(--sklearn-color-fitted-level-3);\n",
              "  color: var(--sklearn-color-background);\n",
              "  text-decoration: none;\n",
              "}\n",
              "\n",
              "/* Span, style for the box shown on hovering the info icon */\n",
              ".sk-estimator-doc-link span {\n",
              "  display: none;\n",
              "  z-index: 9999;\n",
              "  position: relative;\n",
              "  font-weight: normal;\n",
              "  right: .2ex;\n",
              "  padding: .5ex;\n",
              "  margin: .5ex;\n",
              "  width: min-content;\n",
              "  min-width: 20ex;\n",
              "  max-width: 50ex;\n",
              "  color: var(--sklearn-color-text);\n",
              "  box-shadow: 2pt 2pt 4pt #999;\n",
              "  /* unfitted */\n",
              "  background: var(--sklearn-color-unfitted-level-0);\n",
              "  border: .5pt solid var(--sklearn-color-unfitted-level-3);\n",
              "}\n",
              "\n",
              ".sk-estimator-doc-link.fitted span {\n",
              "  /* fitted */\n",
              "  background: var(--sklearn-color-fitted-level-0);\n",
              "  border: var(--sklearn-color-fitted-level-3);\n",
              "}\n",
              "\n",
              ".sk-estimator-doc-link:hover span {\n",
              "  display: block;\n",
              "}\n",
              "\n",
              "/* \"?\"-specific style due to the `<a>` HTML tag */\n",
              "\n",
              "#sk-container-id-2 a.estimator_doc_link {\n",
              "  float: right;\n",
              "  font-size: 1rem;\n",
              "  line-height: 1em;\n",
              "  font-family: monospace;\n",
              "  background-color: var(--sklearn-color-background);\n",
              "  border-radius: 1rem;\n",
              "  height: 1rem;\n",
              "  width: 1rem;\n",
              "  text-decoration: none;\n",
              "  /* unfitted */\n",
              "  color: var(--sklearn-color-unfitted-level-1);\n",
              "  border: var(--sklearn-color-unfitted-level-1) 1pt solid;\n",
              "}\n",
              "\n",
              "#sk-container-id-2 a.estimator_doc_link.fitted {\n",
              "  /* fitted */\n",
              "  border: var(--sklearn-color-fitted-level-1) 1pt solid;\n",
              "  color: var(--sklearn-color-fitted-level-1);\n",
              "}\n",
              "\n",
              "/* On hover */\n",
              "#sk-container-id-2 a.estimator_doc_link:hover {\n",
              "  /* unfitted */\n",
              "  background-color: var(--sklearn-color-unfitted-level-3);\n",
              "  color: var(--sklearn-color-background);\n",
              "  text-decoration: none;\n",
              "}\n",
              "\n",
              "#sk-container-id-2 a.estimator_doc_link.fitted:hover {\n",
              "  /* fitted */\n",
              "  background-color: var(--sklearn-color-fitted-level-3);\n",
              "}\n",
              "</style><div id=\"sk-container-id-2\" class=\"sk-top-container\"><div class=\"sk-text-repr-fallback\"><pre>LogisticRegression()</pre><b>In a Jupyter environment, please rerun this cell to show the HTML representation or trust the notebook. <br />On GitHub, the HTML representation is unable to render, please try loading this page with nbviewer.org.</b></div><div class=\"sk-container\" hidden><div class=\"sk-item\"><div class=\"sk-estimator fitted sk-toggleable\"><input class=\"sk-toggleable__control sk-hidden--visually\" id=\"sk-estimator-id-2\" type=\"checkbox\" checked><label for=\"sk-estimator-id-2\" class=\"sk-toggleable__label fitted sk-toggleable__label-arrow fitted\">&nbsp;&nbsp;LogisticRegression<a class=\"sk-estimator-doc-link fitted\" rel=\"noreferrer\" target=\"_blank\" href=\"https://scikit-learn.org/1.5/modules/generated/sklearn.linear_model.LogisticRegression.html\">?<span>Documentation for LogisticRegression</span></a><span class=\"sk-estimator-doc-link fitted\">i<span>Fitted</span></span></label><div class=\"sk-toggleable__content fitted\"><pre>LogisticRegression()</pre></div> </div></div></div></div>"
            ],
            "text/plain": [
              "LogisticRegression()"
            ]
          },
          "execution_count": 24,
          "metadata": {},
          "output_type": "execute_result"
        }
      ],
      "source": [
        "from sklearn.linear_model import LogisticRegression\n",
        "\n",
        "lr_model = LogisticRegression()\n",
        "lr_model.fit(X_train, y_train)"
      ]
    },
    {
      "cell_type": "code",
      "execution_count": 25,
      "metadata": {
        "colab": {
          "base_uri": "https://localhost:8080/"
        },
        "id": "r8aqCPmjMT3H",
        "outputId": "98c106ae-1776-496f-ad4f-d7c1052e8e3a"
      },
      "outputs": [
        {
          "name": "stdout",
          "output_type": "stream",
          "text": [
            "Accuracy: 0.9842947749924494\n",
            "Precision: 0.9726229025610833\n",
            "Recall: 0.9966817496229261\n",
            "F1-Score: 0.9845053635280095\n"
          ]
        }
      ],
      "source": [
        "# testing performance of Logistic Regression model\n",
        "from sklearn.metrics import accuracy_score, precision_score, recall_score,f1_score,confusion_matrix,ConfusionMatrixDisplay,classification_report\n",
        "y_pred = lr_model.predict(X_test)\n",
        "\n",
        "# evaluate the model's performance\n",
        "accuracy = accuracy_score(y_test, y_pred)\n",
        "precision = precision_score(y_test, y_pred)\n",
        "recall = recall_score(y_test, y_pred)\n",
        "f1 = f1_score(y_test, y_pred)\n",
        "\n",
        "print(f\"Accuracy: {accuracy}\")\n",
        "print(f\"Precision: {precision}\")\n",
        "print(f\"Recall: {recall}\")\n",
        "print(f\"F1-Score: {f1}\")"
      ]
    },
    {
      "cell_type": "code",
      "execution_count": 26,
      "metadata": {
        "colab": {
          "base_uri": "https://localhost:8080/"
        },
        "id": "Wxe0lA9FMajs",
        "outputId": "746a1f4d-c365-4cad-8494-82d1488b248a"
      },
      "outputs": [
        {
          "name": "stdout",
          "output_type": "stream",
          "text": [
            "             Subject                              Message  \\\n",
            "0  Important Meeting  Please attend the meeting tomorrow.   \n",
            "\n",
            "                                            all_text  Prediction  \n",
            "0  Important Meeting Please attend the meeting to...           0  \n"
          ]
        }
      ],
      "source": [
        "sample_input = pd.DataFrame({'Subject': ['Important Meeting'],\n",
        "                             'Message': ['Please attend the meeting tomorrow.']})\n",
        "\n",
        "sample_input['all_text'] = sample_input['Subject'].astype(str) + ' ' + sample_input['Message'].astype(str)\n",
        "\n",
        "# Transform the combined text using the fitted vectorizer\n",
        "sample_combined_features = vectorizer.transform(sample_input['all_text'])\n",
        "\n",
        "\n",
        "predictions = lr_model.predict(sample_combined_features)\n",
        "\n",
        "sample_input['Prediction'] = predictions\n",
        "\n",
        "print(sample_input)"
      ]
    },
    {
      "cell_type": "code",
      "execution_count": 27,
      "metadata": {
        "colab": {
          "base_uri": "https://localhost:8080/"
        },
        "id": "RgbAhB7-M3ey",
        "outputId": "653f51f1-fce9-448f-e06a-2940b176eed1"
      },
      "outputs": [
        {
          "name": "stdout",
          "output_type": "stream",
          "text": [
            "confusion matrix for Logistic Regression:\n",
            " [[3214   93]\n",
            " [  11 3304]]\n"
          ]
        }
      ],
      "source": [
        "print(\"confusion matrix for Logistic Regression:\\n\",confusion_matrix(y_test,y_pred))"
      ]
    },
    {
      "cell_type": "code",
      "execution_count": 28,
      "metadata": {
        "colab": {
          "base_uri": "https://localhost:8080/",
          "height": 485
        },
        "id": "OP-CjaWmhFAi",
        "outputId": "fe764330-8892-43cf-f982-c5d274b23dd3"
      },
      "outputs": [
        {
          "data": {
            "text/plain": [
              "<sklearn.metrics._plot.confusion_matrix.ConfusionMatrixDisplay at 0x14525f610>"
            ]
          },
          "execution_count": 28,
          "metadata": {},
          "output_type": "execute_result"
        },
        {
          "data": {
            "image/png": "[encoded data removed]",
            "text/plain": [
              "<Figure size 640x480 with 2 Axes>"
            ]
          },
          "metadata": {},
          "output_type": "display_data"
        }
      ],
      "source": [
        "disp=ConfusionMatrixDisplay(confusion_matrix(y_test,y_pred))\n",
        "disp.plot(cmap='Blues')"
      ]
    },
    {
      "cell_type": "markdown",
      "metadata": {
        "id": "GPn0C8yZhmie"
      },
      "source": [
        "## SVM"
      ]
    },
    {
      "cell_type": "code",
      "execution_count": 29,
      "metadata": {
        "id": "YO6USbfjhfAM"
      },
      "outputs": [],
      "source": [
        "from sklearn.svm import SVC"
      ]
    },
    {
      "cell_type": "code",
      "execution_count": 30,
      "metadata": {
        "id": "iJlLQ5sBoQPk"
      },
      "outputs": [],
      "source": [
        "svm_model = SVC()"
      ]
    },
    {
      "cell_type": "code",
      "execution_count": 31,
      "metadata": {
        "id": "FCYlyuWaoVX5"
      },
      "outputs": [],
      "source": [
        "svm_model.fit(X_train, y_train)\n",
        "y_pred_svm = svm_model.predict(X_test)"
      ]
    },
    {
      "cell_type": "code",
      "execution_count": 32,
      "metadata": {
        "colab": {
          "base_uri": "https://localhost:8080/"
        },
        "id": "zw1uVFaRoYUg",
        "outputId": "dd1ebabc-3f66-4e93-f0c7-7270e5f2ccc0"
      },
      "outputs": [
        {
          "name": "stdout",
          "output_type": "stream",
          "text": [
            "SVM Accuracy: 0.9901842343702809\n",
            "SVM Precision: 0.9830558858501783\n",
            "SVM Recall: 0.9975867269984917\n",
            "SVM F1-Score: 0.9902680041922444\n"
          ]
        }
      ],
      "source": [
        "accuracy_svm = accuracy_score(y_test, y_pred_svm)\n",
        "precision_svm = precision_score(y_test, y_pred_svm)\n",
        "recall_svm = recall_score(y_test, y_pred_svm)\n",
        "f1_svm = f1_score(y_test, y_pred_svm)\n",
        "\n",
        "print(f\"SVM Accuracy: {accuracy_svm}\")\n",
        "print(f\"SVM Precision: {precision_svm}\")\n",
        "print(f\"SVM Recall: {recall_svm}\")\n",
        "print(f\"SVM F1-Score: {f1_svm}\")"
      ]
    },
    {
      "cell_type": "code",
      "execution_count": 33,
      "metadata": {},
      "outputs": [
        {
          "name": "stdout",
          "output_type": "stream",
          "text": [
            "                     Subject  \\\n",
            "0  win 1 million. click here   \n",
            "\n",
            "                                            Message  \\\n",
            "0  i have sent you a special link to win 1 million.   \n",
            "\n",
            "                                            all_text  Prediction  \n",
            "0  win 1 million. click here i have sent you a sp...           1  \n"
          ]
        }
      ],
      "source": [
        "sample_input = pd.DataFrame({'Subject': ['win 1 million. click here'],\n",
        "                             'Message': ['i have sent you a special link to win 1 million.']})\n",
        "\n",
        "sample_input['all_text'] = sample_input['Subject'].astype(str) + ' ' + sample_input['Message'].astype(str)\n",
        "\n",
        "# Transform the combined text using the fitted vectorizer\n",
        "sample_combined_features = vectorizer.transform(sample_input['all_text'])\n",
        "\n",
        "predictions = svm_model.predict(sample_combined_features)\n",
        "\n",
        "sample_input['Prediction'] = predictions\n",
        "\n",
        "print(sample_input)"
      ]
    },
    {
      "cell_type": "markdown",
      "metadata": {
        "id": "_2m6R-rWsNqc"
      },
      "source": [
        "## Experimentation with other models"
      ]
    },
    {
      "cell_type": "code",
      "execution_count": 34,
      "metadata": {
        "colab": {
          "base_uri": "https://localhost:8080/"
        },
        "id": "4WY4gRsDr7cz",
        "outputId": "143dcd9a-14a5-40a6-e718-077abbce1563"
      },
      "outputs": [
        {
          "name": "stdout",
          "output_type": "stream",
          "text": [
            "Requirement already satisfied: tabulate in /Users/sohan/.pyenv/versions/3.10.12/lib/python3.10/site-packages (0.9.0)\n",
            "Requirement already satisfied: xgboost in /Users/sohan/.pyenv/versions/3.10.12/lib/python3.10/site-packages (2.1.3)\n",
            "Requirement already satisfied: lightgbm in /Users/sohan/.pyenv/versions/3.10.12/lib/python3.10/site-packages (4.5.0)\n",
            "Requirement already satisfied: scipy in /Users/sohan/.pyenv/versions/3.10.12/lib/python3.10/site-packages (from xgboost) (1.14.1)\n",
            "Requirement already satisfied: numpy in /Users/sohan/.pyenv/versions/3.10.12/lib/python3.10/site-packages (from xgboost) (1.26.4)\n",
            "\n",
            "\u001b[1m[\u001b[0m\u001b[34;49mnotice\u001b[0m\u001b[1;39;49m]\u001b[0m\u001b[39;49m A new release of pip is available: \u001b[0m\u001b[31;49m23.0.1\u001b[0m\u001b[39;49m -> \u001b[0m\u001b[32;49m25.0\u001b[0m\n",
            "\u001b[1m[\u001b[0m\u001b[34;49mnotice\u001b[0m\u001b[1;39;49m]\u001b[0m\u001b[39;49m To update, run: \u001b[0m\u001b[32;49mpip install --upgrade pip\u001b[0m\n"
          ]
        }
      ],
      "source": [
        "!pip install tabulate xgboost lightgbm"
      ]
    },
    {
      "cell_type": "code",
      "execution_count": 35,
      "metadata": {
        "colab": {
          "base_uri": "https://localhost:8080/"
        },
        "id": "X1PhzjMesUi9",
        "outputId": "ca581528-625a-438e-cc63-168955f372e5"
      },
      "outputs": [],
      "source": [
        "from sklearn.naive_bayes import GaussianNB\n",
        "from sklearn.metrics import accuracy_score, precision_score, recall_score, f1_score\n",
        "from tabulate import tabulate"
      ]
    },
    {
      "cell_type": "markdown",
      "metadata": {},
      "source": [
        "### Decision Tree"
      ]
    },
    {
      "cell_type": "code",
      "execution_count": 36,
      "metadata": {},
      "outputs": [
        {
          "name": "stdout",
          "output_type": "stream",
          "text": [
            "Decision Tree Metrics:\n",
            "Accuracy: 0.9545454545454546\n",
            "Precision: 0.9498507462686567\n",
            "Recall: 0.9598793363499246\n",
            "F1-Score: 0.9548387096774194\n"
          ]
        }
      ],
      "source": [
        "from sklearn.tree import DecisionTreeClassifier\n",
        "dt_model = DecisionTreeClassifier()\n",
        "dt_model.fit(X_train, y_train)\n",
        "y_pred_dt = dt_model.predict(X_test)\n",
        "print(\"Decision Tree Metrics:\")\n",
        "print(\"Accuracy:\", accuracy_score(y_test, y_pred_dt))\n",
        "print(\"Precision:\", precision_score(y_test, y_pred_dt))\n",
        "print(\"Recall:\", recall_score(y_test, y_pred_dt))\n",
        "print(\"F1-Score:\", f1_score(y_test, y_pred_dt))"
      ]
    },
    {
      "cell_type": "markdown",
      "metadata": {
        "id": "f8P1mzi8zmzj"
      },
      "source": [
        "### Naive-Bayes"
      ]
    },
    {
      "cell_type": "code",
      "execution_count": 38,
      "metadata": {
        "id": "cM_UAHpqsfWR"
      },
      "outputs": [],
      "source": [
        "nb_model = GaussianNB()\n",
        "nb_model.fit(X_train.toarray(), y_train)\n",
        "y_pred_nb = nb_model.predict(X_test.toarray())"
      ]
    },
    {
      "cell_type": "code",
      "execution_count": 39,
      "metadata": {
        "id": "VQxdvUmGzx-9"
      },
      "outputs": [
        {
          "name": "stdout",
          "output_type": "stream",
          "text": [
            "Naive Bayes Metrics:\n",
            "Accuracy: 0.9604349139232861\n",
            "Precision: 0.9762870514820593\n",
            "Recall: 0.9438914027149321\n",
            "F1-Score: 0.9598159509202454\n"
          ]
        }
      ],
      "source": [
        "print(\"Naive Bayes Metrics:\")\n",
        "print(\"Accuracy:\", accuracy_score(y_test, y_pred_nb))\n",
        "print(\"Precision:\", precision_score(y_test, y_pred_nb))\n",
        "print(\"Recall:\", recall_score(y_test, y_pred_nb))\n",
        "print(\"F1-Score:\", f1_score(y_test, y_pred_nb))"
      ]
    },
    {
      "cell_type": "markdown",
      "metadata": {},
      "source": [
        "### Random Forest"
      ]
    },
    {
      "cell_type": "code",
      "execution_count": 40,
      "metadata": {},
      "outputs": [
        {
          "name": "stdout",
          "output_type": "stream",
          "text": [
            "Random Forest Metrics:\n",
            "Accuracy: 0.9892781636967684\n",
            "Precision: 0.987087087087087\n",
            "Recall: 0.991553544494721\n",
            "F1-Score: 0.9893152746425884\n"
          ]
        }
      ],
      "source": [
        "from sklearn.ensemble import RandomForestClassifier\n",
        "rf_model = RandomForestClassifier()\n",
        "rf_model.fit(X_train, y_train)\n",
        "y_pred_rf = rf_model.predict(X_test)\n",
        "print(\"Random Forest Metrics:\")\n",
        "print(\"Accuracy:\", accuracy_score(y_test, y_pred_rf))\n",
        "print(\"Precision:\", precision_score(y_test, y_pred_rf))\n",
        "print(\"Recall:\", recall_score(y_test, y_pred_rf))\n",
        "print(\"F1-Score:\", f1_score(y_test, y_pred_rf))"
      ]
    },
    {
      "cell_type": "markdown",
      "metadata": {},
      "source": [
        "### Gradient Boosting"
      ]
    },
    {
      "cell_type": "code",
      "execution_count": 41,
      "metadata": {},
      "outputs": [
        {
          "name": "stdout",
          "output_type": "stream",
          "text": [
            "Gradient Boosting Metrics:\n",
            "Accuracy: 0.9584717607973422\n",
            "Precision: 0.9315729699034639\n",
            "Recall: 0.9897435897435898\n",
            "F1-Score: 0.9597776802691239\n"
          ]
        }
      ],
      "source": [
        "from sklearn.ensemble import GradientBoostingClassifier\n",
        "gb_model = GradientBoostingClassifier()\n",
        "gb_model.fit(X_train, y_train)\n",
        "y_pred_gb = gb_model.predict(X_test)\n",
        "print(\"Gradient Boosting Metrics:\")\n",
        "print(\"Accuracy:\", accuracy_score(y_test, y_pred_gb))\n",
        "print(\"Precision:\", precision_score(y_test, y_pred_gb))\n",
        "print(\"Recall:\", recall_score(y_test, y_pred_gb))\n",
        "print(\"F1-Score:\", f1_score(y_test, y_pred_gb))"
      ]
    },
    {
      "cell_type": "markdown",
      "metadata": {},
      "source": [
        "### K-Nearest Neighbors"
      ]
    },
    {
      "cell_type": "code",
      "execution_count": 42,
      "metadata": {},
      "outputs": [
        {
          "name": "stdout",
          "output_type": "stream",
          "text": [
            "K-Nearest Neighbors Metrics:\n",
            "Accuracy: 0.9664753850800363\n",
            "Precision: 0.9523252412986253\n",
            "Recall: 0.9822021116138763\n",
            "F1-Score: 0.967032967032967\n"
          ]
        }
      ],
      "source": [
        "from sklearn.neighbors import KNeighborsClassifier\n",
        "knn_model = KNeighborsClassifier()\n",
        "knn_model.fit(X_train, y_train)\n",
        "y_pred_knn = knn_model.predict(X_test)\n",
        "print(\"K-Nearest Neighbors Metrics:\")\n",
        "print(\"Accuracy:\", accuracy_score(y_test, y_pred_knn))\n",
        "print(\"Precision:\", precision_score(y_test, y_pred_knn))\n",
        "print(\"Recall:\", recall_score(y_test, y_pred_knn))\n",
        "print(\"F1-Score:\", f1_score(y_test, y_pred_knn))"
      ]
    },
    {
      "cell_type": "markdown",
      "metadata": {},
      "source": [
        "### Stochastic Gradient Descent"
      ]
    },
    {
      "cell_type": "code",
      "execution_count": 43,
      "metadata": {},
      "outputs": [
        {
          "name": "stdout",
          "output_type": "stream",
          "text": [
            "SGD Classifier Metrics:\n",
            "Accuracy: 0.9886741165810933\n",
            "Precision: 0.9804270462633452\n",
            "Recall: 0.9972850678733032\n",
            "F1-Score: 0.9887842081650965\n"
          ]
        }
      ],
      "source": [
        "from sklearn.linear_model import SGDClassifier\n",
        "sgd_model = SGDClassifier()\n",
        "sgd_model.fit(X_train, y_train)\n",
        "y_pred_sgd = sgd_model.predict(X_test)\n",
        "print(\"SGD Classifier Metrics:\")\n",
        "print(\"Accuracy:\", accuracy_score(y_test, y_pred_sgd))\n",
        "print(\"Precision:\", precision_score(y_test, y_pred_sgd))\n",
        "print(\"Recall:\", recall_score(y_test, y_pred_sgd))\n",
        "print(\"F1-Score:\", f1_score(y_test, y_pred_sgd))"
      ]
    },
    {
      "cell_type": "markdown",
      "metadata": {},
      "source": [
        "### XGBoost"
      ]
    },
    {
      "cell_type": "code",
      "execution_count": 44,
      "metadata": {},
      "outputs": [
        {
          "name": "stdout",
          "output_type": "stream",
          "text": [
            "XGBoost Metrics:\n",
            "Accuracy: 0.9821806100875868\n",
            "Precision: 0.9725096068578185\n",
            "Recall: 0.9924585218702866\n",
            "F1-Score: 0.9823828008360704\n"
          ]
        }
      ],
      "source": [
        "from xgboost import XGBClassifier\n",
        "xgb_model = XGBClassifier()\n",
        "xgb_model.fit(X_train, y_train)\n",
        "y_pred_xgb = xgb_model.predict(X_test)\n",
        "print(\"XGBoost Metrics:\")\n",
        "print(\"Accuracy:\", accuracy_score(y_test, y_pred_xgb))\n",
        "print(\"Precision:\", precision_score(y_test, y_pred_xgb))\n",
        "print(\"Recall:\", recall_score(y_test, y_pred_xgb))\n",
        "print(\"F1-Score:\", f1_score(y_test, y_pred_xgb))"
      ]
    },
    {
      "cell_type": "markdown",
      "metadata": {},
      "source": [
        "### LightGBM"
      ]
    },
    {
      "cell_type": "code",
      "execution_count": 45,
      "metadata": {},
      "outputs": [
        {
          "name": "stdout",
          "output_type": "stream",
          "text": [
            "[LightGBM] [Info] Number of positive: 13299, number of negative: 13186\n",
            "[LightGBM] [Info] Auto-choosing row-wise multi-threading, the overhead of testing was 0.572870 seconds.\n",
            "You can set `force_row_wise=true` to remove the overhead.\n",
            "And if memory is not enough, you can set `force_col_wise=true`.\n",
            "[LightGBM] [Info] Total Bins 599349\n",
            "[LightGBM] [Info] Number of data points in the train set: 26485, number of used features: 12456\n",
            "[LightGBM] [Info] [binary:BoostFromScore]: pavg=0.502133 -> initscore=0.008533\n",
            "[LightGBM] [Info] Start training from score 0.008533\n",
            "LightGBM Metrics:\n",
            "Accuracy: 0.9856538810027182\n",
            "Precision: 0.9783125371360666\n",
            "Recall: 0.9933634992458522\n",
            "F1-Score: 0.985780571770693\n"
          ]
        }
      ],
      "source": [
        "from lightgbm import LGBMClassifier\n",
        "lgbm_model = LGBMClassifier()\n",
        "lgbm_model.fit(X_train, y_train)\n",
        "y_pred_lgbm = lgbm_model.predict(X_test)\n",
        "print(\"LightGBM Metrics:\")\n",
        "print(\"Accuracy:\", accuracy_score(y_test, y_pred_lgbm))\n",
        "print(\"Precision:\", precision_score(y_test, y_pred_lgbm))\n",
        "print(\"Recall:\", recall_score(y_test, y_pred_lgbm))\n",
        "print(\"F1-Score:\", f1_score(y_test, y_pred_lgbm))"
      ]
    },
    {
      "cell_type": "code",
      "execution_count": 46,
      "metadata": {},
      "outputs": [
        {
          "name": "stdout",
          "output_type": "stream",
          "text": [
            "+---------------------+------------+-------------+----------+------------+\n",
            "| Model               |   Accuracy |   Precision |   Recall |   F1-Score |\n",
            "+=====================+============+=============+==========+============+\n",
            "| SVM                 |   0.990184 |    0.983056 | 0.997587 |   0.990268 |\n",
            "+---------------------+------------+-------------+----------+------------+\n",
            "| Random Forest       |   0.989278 |    0.987087 | 0.991554 |   0.989315 |\n",
            "+---------------------+------------+-------------+----------+------------+\n",
            "| SGD Classifier      |   0.988674 |    0.980427 | 0.997285 |   0.988784 |\n",
            "+---------------------+------------+-------------+----------+------------+\n",
            "| LightGBM            |   0.985654 |    0.978313 | 0.993363 |   0.985781 |\n",
            "+---------------------+------------+-------------+----------+------------+\n",
            "| Logistic Regression |   0.984295 |    0.972623 | 0.996682 |   0.984505 |\n",
            "+---------------------+------------+-------------+----------+------------+\n",
            "| XGBoost             |   0.982181 |    0.97251  | 0.992459 |   0.982383 |\n",
            "+---------------------+------------+-------------+----------+------------+\n",
            "| K-Nearest Neighbors |   0.966475 |    0.952325 | 0.982202 |   0.967033 |\n",
            "+---------------------+------------+-------------+----------+------------+\n",
            "| Naive Bayes         |   0.960435 |    0.976287 | 0.943891 |   0.959816 |\n",
            "+---------------------+------------+-------------+----------+------------+\n",
            "| Gradient Boosting   |   0.958472 |    0.931573 | 0.989744 |   0.959778 |\n",
            "+---------------------+------------+-------------+----------+------------+\n",
            "| Decision Tree       |   0.954545 |    0.949851 | 0.959879 |   0.954839 |\n",
            "+---------------------+------------+-------------+----------+------------+\n"
          ]
        }
      ],
      "source": [
        "# display all metrics in a table\n",
        "from tabulate import tabulate\n",
        "from operator import itemgetter\n",
        "\n",
        "results = []\n",
        "results.append(['Logistic Regression', accuracy, precision, recall, f1])\n",
        "results.append(['Naive Bayes', accuracy_score(y_test, y_pred_nb), precision_score(y_test, y_pred_nb), recall_score(y_test, y_pred_nb), f1_score(y_test, y_pred_nb)])\n",
        "results.append(['Random Forest', accuracy_score(y_test, y_pred_rf), precision_score(y_test, y_pred_rf), recall_score(y_test, y_pred_rf), f1_score(y_test, y_pred_rf)])\n",
        "results.append(['Gradient Boosting', accuracy_score(y_test, y_pred_gb), precision_score(y_test, y_pred_gb), recall_score(y_test, y_pred_gb), f1_score(y_test, y_pred_gb)])\n",
        "results.append(['Decision Tree', accuracy_score(y_test, y_pred_dt), precision_score(y_test, y_pred_dt), recall_score(y_test, y_pred_dt), f1_score(y_test, y_pred_dt)])\n",
        "results.append(['K-Nearest Neighbors', accuracy_score(y_test, y_pred_knn), precision_score(y_test, y_pred_knn), recall_score(y_test, y_pred_knn), f1_score(y_test, y_pred_knn)])\n",
        "results.append(['SGD Classifier', accuracy_score(y_test, y_pred_sgd), precision_score(y_test, y_pred_sgd), recall_score(y_test, y_pred_sgd), f1_score(y_test, y_pred_sgd)])\n",
        "results.append(['XGBoost', accuracy_score(y_test, y_pred_xgb), precision_score(y_test, y_pred_xgb), recall_score(y_test, y_pred_xgb), f1_score(y_test, y_pred_xgb)])\n",
        "results.append(['LightGBM', accuracy_score(y_test, y_pred_lgbm), precision_score(y_test, y_pred_lgbm), recall_score(y_test, y_pred_lgbm), f1_score(y_test, y_pred_lgbm)])\n",
        "results.append(['SVM', accuracy_svm, precision_svm, recall_svm, f1_svm])\n",
        "\n",
        "sorted_results = sorted(results, key=itemgetter(1), reverse=True)\n",
        "\n",
        "headers = [\"Model\", \"Accuracy\", \"Precision\", \"Recall\", \"F1-Score\"]\n",
        "print(tabulate(sorted_results, headers=headers, tablefmt=\"grid\"))"
      ]
    },
    {
      "cell_type": "code",
      "execution_count": 47,
      "metadata": {},
      "outputs": [],
      "source": [
        "import numpy as np"
      ]
    },
    {
      "cell_type": "code",
      "execution_count": 48,
      "metadata": {},
      "outputs": [
        {
          "name": "stdout",
          "output_type": "stream",
          "text": [
            "Ensemble Model Metrics:\n",
            "Accuracy: 0.9900\n",
            "Precision: 0.9825\n",
            "Recall: 0.9979\n",
            "F1-Score: 0.9901\n"
          ]
        }
      ],
      "source": [
        "y_pred_ensemble = np.zeros(len(y_test))\n",
        "predictions = np.array([y_pred_sgd, y_pred_svm, y_pred_rf])\n",
        "y_pred_ensemble = np.apply_along_axis(lambda x: np.bincount(x.astype(int)).argmax(), \n",
        "                                     axis=0, \n",
        "                                     arr=predictions)\n",
        "\n",
        "ensemble_accuracy = accuracy_score(y_test, y_pred_ensemble)\n",
        "ensemble_precision = precision_score(y_test, y_pred_ensemble)\n",
        "ensemble_recall = recall_score(y_test, y_pred_ensemble)\n",
        "ensemble_f1 = f1_score(y_test, y_pred_ensemble)\n",
        "\n",
        "print(\"Ensemble Model Metrics:\")\n",
        "print(f\"Accuracy: {ensemble_accuracy:.4f}\")\n",
        "print(f\"Precision: {ensemble_precision:.4f}\")\n",
        "print(f\"Recall: {ensemble_recall:.4f}\")\n",
        "print(f\"F1-Score: {ensemble_f1:.4f}\")"
      ]
    },
    {
      "cell_type": "code",
      "execution_count": 49,
      "metadata": {},
      "outputs": [],
      "source": [
        "# save ensemble model function\n",
        "def ensemble_predict(text_features):\n",
        "    pred_sgd = sgd_model.predict(text_features)\n",
        "    pred_svm = svm_model.predict(text_features)\n",
        "    pred_rf = rf_model.predict(text_features)\n",
        "    \n",
        "    predictions = np.array([pred_sgd, pred_svm, pred_rf])\n",
        "    ensemble_pred = np.apply_along_axis(lambda x: np.bincount(x.astype(int)).argmax(), \n",
        "                                      axis=0, \n",
        "                                      arr=predictions)\n",
        "    return ensemble_pred"
      ]
    },
    {
      "cell_type": "code",
      "execution_count": 50,
      "metadata": {},
      "outputs": [],
      "source": [
        "sample_input = pd.DataFrame({\n",
        "    'Subject': ['win 1 million. click here'],\n",
        "    'Message': ['i have sent you a special link to win 1 million.']\n",
        "})"
      ]
    },
    {
      "cell_type": "code",
      "execution_count": 51,
      "metadata": {},
      "outputs": [
        {
          "name": "stdout",
          "output_type": "stream",
          "text": [
            "\n",
            "Sample Test:\n",
            "                     Subject  \\\n",
            "0  win 1 million. click here   \n",
            "\n",
            "                                            Message  \\\n",
            "0  i have sent you a special link to win 1 million.   \n",
            "\n",
            "                                            all_text  \n",
            "0  win 1 million. click here i have sent you a sp...  \n",
            "Ensemble Prediction: Spam\n"
          ]
        }
      ],
      "source": [
        "sample_input['all_text'] = sample_input['Subject'].astype(str) + ' ' + sample_input['Message'].astype(str)\n",
        "sample_features = vectorizer.transform(sample_input['all_text'])\n",
        "ensemble_prediction = ensemble_predict(sample_features)\n",
        "\n",
        "print(\"\\nSample Test:\")\n",
        "print(sample_input)\n",
        "print(f\"Ensemble Prediction: {'Spam' if ensemble_prediction[0] == 1 else 'Not Spam'}\")"
      ]
    },
    {
      "cell_type": "code",
      "execution_count": 58,
      "metadata": {},
      "outputs": [
        {
          "name": "stdout",
          "output_type": "stream",
          "text": [
            "Requirement already satisfied: joblib in /Users/sohan/.pyenv/versions/3.10.12/lib/python3.10/site-packages (1.4.2)\n",
            "\n",
            "\u001b[1m[\u001b[0m\u001b[34;49mnotice\u001b[0m\u001b[1;39;49m]\u001b[0m\u001b[39;49m A new release of pip is available: \u001b[0m\u001b[31;49m23.0.1\u001b[0m\u001b[39;49m -> \u001b[0m\u001b[32;49m25.0\u001b[0m\n",
            "\u001b[1m[\u001b[0m\u001b[34;49mnotice\u001b[0m\u001b[1;39;49m]\u001b[0m\u001b[39;49m To update, run: \u001b[0m\u001b[32;49mpip install --upgrade pip\u001b[0m\n"
          ]
        }
      ],
      "source": [
        "!pip install joblib\n"
      ]
    },
    {
      "cell_type": "code",
      "execution_count": 57,
      "metadata": {},
      "outputs": [
        {
          "data": {
            "text/plain": [
              "['rf_model.joblib']"
            ]
          },
          "execution_count": 57,
          "metadata": {},
          "output_type": "execute_result"
        }
      ],
      "source": [
        "# download top 3 model files\n",
        "from joblib import dump, load\n",
        "dump(sgd_model, 'sgd_model.joblib')\n",
        "dump(svm_model, 'svm_model.joblib')\n",
        "dump(rf_model, 'rf_model.joblib')"
      ]
    },
    {
      "cell_type": "code",
      "execution_count": 58,
      "metadata": {},
      "outputs": [
        {
          "data": {
            "text/plain": [
              "['ensemble_model_components.joblib']"
            ]
          },
          "execution_count": 58,
          "metadata": {},
          "output_type": "execute_result"
        }
      ],
      "source": [
        "from joblib import dump, load\n",
        "import pickle\n",
        "\n",
        "model_components = {\n",
        "    'sgd_model': sgd_model,\n",
        "    'svm_model': svm_model,\n",
        "    'rf_model': rf_model,\n",
        "    'vectorizer': vectorizer\n",
        "}\n",
        "\n",
        "def ensemble_predict(text_features):\n",
        "    pred_sgd = sgd_model.predict(text_features)\n",
        "    pred_svm = svm_model.predict(text_features)\n",
        "    pred_rf = rf_model.predict(text_features)\n",
        "    \n",
        "    predictions = np.array([pred_sgd, pred_svm, pred_rf])\n",
        "    ensemble_pred = np.apply_along_axis(lambda x: np.bincount(x.astype(int)).argmax(), \n",
        "                                      axis=0, \n",
        "                                      arr=predictions)\n",
        "    return ensemble_pred\n",
        "\n",
        "dump(model_components, 'ensemble_model_components.joblib')"
      ]
    },
    {
      "cell_type": "code",
      "execution_count": 59,
      "metadata": {},
      "outputs": [
        {
          "name": "stdout",
          "output_type": "stream",
          "text": [
            "\n",
            "Subject: Important Meeting\n",
            "Message: Team meeting tomorrow at 10 AM\n",
            "Prediction: Not Spam\n",
            "\n",
            "Subject: Win Million Dollars\n",
            "Message: Click here to claim your prize money!!!\n",
            "Prediction: Spam\n"
          ]
        }
      ],
      "source": [
        "def load_and_use_ensemble():\n",
        "    components = load('ensemble_model_components.joblib')\n",
        "\n",
        "    def predict_spam(subject, message):\n",
        "        vectorizer = components['vectorizer']\n",
        "        sgd_model = components['sgd_model']\n",
        "        svm_model = components['svm_model']\n",
        "        rf_model = components['rf_model']\n",
        "        \n",
        "        text = f\"{subject} {message}\"\n",
        "        features = vectorizer.transform([text])\n",
        "        \n",
        "        # get predictions from each model\n",
        "        pred_sgd = sgd_model.predict(features)\n",
        "        pred_svm = svm_model.predict(features)\n",
        "        pred_rf = rf_model.predict(features)\n",
        "        \n",
        "        # ensemble prediction\n",
        "        predictions = np.array([pred_sgd, pred_svm, pred_rf])\n",
        "        ensemble_pred = np.apply_along_axis(\n",
        "            lambda x: np.bincount(x.astype(int)).argmax(), \n",
        "            axis=0, \n",
        "            arr=predictions\n",
        "        )\n",
        "        \n",
        "        return \"Spam\" if ensemble_pred[0] == 1 else \"Not Spam\"\n",
        "    \n",
        "    return predict_spam\n",
        "\n",
        "if __name__ == \"__main__\":\n",
        "    predict_spam = load_and_use_ensemble()\n",
        "    test_cases = [\n",
        "        {\n",
        "            'subject': 'Important Meeting',\n",
        "            'message': 'Team meeting tomorrow at 10 AM'\n",
        "        },\n",
        "        {\n",
        "            'subject': 'Win Million Dollars',\n",
        "            'message': 'Click here to claim your prize money!!!'\n",
        "        }\n",
        "    ]\n",
        "    \n",
        "    for test in test_cases:\n",
        "        result = predict_spam(test['subject'], test['message'])\n",
        "        print(f\"\\nSubject: {test['subject']}\")\n",
        "        print(f\"Message: {test['message']}\")\n",
        "        print(f\"Prediction: {result}\")"
      ]
    },
    {
      "cell_type": "code",
      "execution_count": 60,
      "metadata": {},
      "outputs": [
        {
          "name": "stdout",
          "output_type": "stream",
          "text": [
            "Collecting seaborn\n",
            "  Downloading seaborn-0.13.2-py3-none-any.whl (294 kB)\n",
            "\u001b[2K     \u001b[90m━━━━━━━━━━━━━━━━━━━━━━━━━━━━━━━━━━━━━━━\u001b[0m \u001b[32m294.9/294.9 kB\u001b[0m \u001b[31m1.5 MB/s\u001b[0m eta \u001b[36m0:00:00\u001b[0ma \u001b[36m0:00:01\u001b[0m\n",
            "\u001b[?25hRequirement already satisfied: matplotlib!=3.6.1,>=3.4 in /Users/sohan/.pyenv/versions/3.10.12/lib/python3.10/site-packages (from seaborn) (3.9.2)\n",
            "Requirement already satisfied: pandas>=1.2 in /Users/sohan/.pyenv/versions/3.10.12/lib/python3.10/site-packages (from seaborn) (2.2.3)\n",
            "Requirement already satisfied: numpy!=1.24.0,>=1.20 in /Users/sohan/.pyenv/versions/3.10.12/lib/python3.10/site-packages (from seaborn) (1.26.4)\n",
            "Requirement already satisfied: cycler>=0.10 in /Users/sohan/.pyenv/versions/3.10.12/lib/python3.10/site-packages (from matplotlib!=3.6.1,>=3.4->seaborn) (0.12.1)\n",
            "Requirement already satisfied: fonttools>=4.22.0 in /Users/sohan/.pyenv/versions/3.10.12/lib/python3.10/site-packages (from matplotlib!=3.6.1,>=3.4->seaborn) (4.54.1)\n",
            "Requirement already satisfied: contourpy>=1.0.1 in /Users/sohan/.pyenv/versions/3.10.12/lib/python3.10/site-packages (from matplotlib!=3.6.1,>=3.4->seaborn) (1.3.0)\n",
            "Requirement already satisfied: python-dateutil>=2.7 in /Users/sohan/.pyenv/versions/3.10.12/lib/python3.10/site-packages (from matplotlib!=3.6.1,>=3.4->seaborn) (2.9.0.post0)\n",
            "Requirement already satisfied: pillow>=8 in /Users/sohan/.pyenv/versions/3.10.12/lib/python3.10/site-packages (from matplotlib!=3.6.1,>=3.4->seaborn) (10.4.0)\n",
            "Requirement already satisfied: pyparsing>=2.3.1 in /Users/sohan/.pyenv/versions/3.10.12/lib/python3.10/site-packages (from matplotlib!=3.6.1,>=3.4->seaborn) (3.2.0)\n",
            "Requirement already satisfied: kiwisolver>=1.3.1 in /Users/sohan/.pyenv/versions/3.10.12/lib/python3.10/site-packages (from matplotlib!=3.6.1,>=3.4->seaborn) (1.4.7)\n",
            "Requirement already satisfied: packaging>=20.0 in /Users/sohan/.pyenv/versions/3.10.12/lib/python3.10/site-packages (from matplotlib!=3.6.1,>=3.4->seaborn) (24.1)\n",
            "Requirement already satisfied: tzdata>=2022.7 in /Users/sohan/.pyenv/versions/3.10.12/lib/python3.10/site-packages (from pandas>=1.2->seaborn) (2024.2)\n",
            "Requirement already satisfied: pytz>=2020.1 in /Users/sohan/.pyenv/versions/3.10.12/lib/python3.10/site-packages (from pandas>=1.2->seaborn) (2024.2)\n",
            "Requirement already satisfied: six>=1.5 in /Users/sohan/.pyenv/versions/3.10.12/lib/python3.10/site-packages (from python-dateutil>=2.7->matplotlib!=3.6.1,>=3.4->seaborn) (1.16.0)\n",
            "Installing collected packages: seaborn\n",
            "Successfully installed seaborn-0.13.2\n",
            "\n",
            "\u001b[1m[\u001b[0m\u001b[34;49mnotice\u001b[0m\u001b[1;39;49m]\u001b[0m\u001b[39;49m A new release of pip is available: \u001b[0m\u001b[31;49m23.0.1\u001b[0m\u001b[39;49m -> \u001b[0m\u001b[32;49m25.0\u001b[0m\n",
            "\u001b[1m[\u001b[0m\u001b[34;49mnotice\u001b[0m\u001b[1;39;49m]\u001b[0m\u001b[39;49m To update, run: \u001b[0m\u001b[32;49mpip install --upgrade pip\u001b[0m\n"
          ]
        }
      ],
      "source": [
        "!pip install seaborn"
      ]
    },
    {
      "cell_type": "markdown",
      "metadata": {},
      "source": [
        "## Ensemble Model evaluation"
      ]
    },
    {
      "cell_type": "code",
      "execution_count": 61,
      "metadata": {},
      "outputs": [
        {
          "name": "stdout",
          "output_type": "stream",
          "text": [
            "\n",
            "Ensemble Model Metrics:\n",
            "Accuracy: 0.9900\n",
            "Precision: 0.9825\n",
            "Recall: 0.9979\n",
            "F1-Score: 0.9901\n"
          ]
        }
      ],
      "source": [
        "from sklearn.metrics import accuracy_score, precision_score, recall_score, f1_score, confusion_matrix, classification_report\n",
        "import numpy as np\n",
        "import matplotlib.pyplot as plt\n",
        "import seaborn as sns\n",
        "\n",
        "y_pred_ensemble = np.zeros(len(y_test))\n",
        "predictions = np.array([y_pred_sgd, y_pred_svm, y_pred_rf])\n",
        "y_pred_ensemble = np.apply_along_axis(lambda x: np.bincount(x.astype(int)).argmax(), \n",
        "                                     axis=0, \n",
        "                                     arr=predictions)\n",
        "\n",
        "# calculate metrics\n",
        "ensemble_metrics = {\n",
        "    'Accuracy': accuracy_score(y_test, y_pred_ensemble),\n",
        "    'Precision': precision_score(y_test, y_pred_ensemble),\n",
        "    'Recall': recall_score(y_test, y_pred_ensemble),\n",
        "    'F1-Score': f1_score(y_test, y_pred_ensemble)\n",
        "}\n",
        "\n",
        "# print metrics\n",
        "print(\"\\nEnsemble Model Metrics:\")\n",
        "for metric, value in ensemble_metrics.items():\n",
        "    print(f\"{metric}: {value:.4f}\")"
      ]
    },
    {
      "cell_type": "code",
      "execution_count": 62,
      "metadata": {},
      "outputs": [
        {
          "data": {
            "image/png": "[encoded data removed]",
            "text/plain": [
              "<Figure size 800x600 with 2 Axes>"
            ]
          },
          "metadata": {},
          "output_type": "display_data"
        }
      ],
      "source": [
        "plt.figure(figsize=(8, 6))\n",
        "cm = confusion_matrix(y_test, y_pred_ensemble)\n",
        "sns.heatmap(cm, annot=True, fmt='d', cmap='Blues')\n",
        "plt.title('Confusion Matrix - Ensemble Model')\n",
        "plt.ylabel('True Label')\n",
        "plt.xlabel('Predicted Label')\n",
        "plt.show()"
      ]
    },
    {
      "cell_type": "code",
      "execution_count": 63,
      "metadata": {},
      "outputs": [
        {
          "name": "stdout",
          "output_type": "stream",
          "text": [
            "\n",
            "Detailed Classification Report:\n",
            "              precision    recall  f1-score   support\n",
            "\n",
            "           0       1.00      0.98      0.99      3307\n",
            "           1       0.98      1.00      0.99      3315\n",
            "\n",
            "    accuracy                           0.99      6622\n",
            "   macro avg       0.99      0.99      0.99      6622\n",
            "weighted avg       0.99      0.99      0.99      6622\n",
            "\n",
            "\n",
            "Error Analysis:\n",
            "False Positive Rate: 0.0089\n",
            "False Negative Rate: 0.0011\n"
          ]
        }
      ],
      "source": [
        "print(\"\\nDetailed Classification Report:\")\n",
        "print(classification_report(y_test, y_pred_ensemble))\n",
        "\n",
        "total = len(y_test)\n",
        "false_positives = ((y_pred_ensemble == 1) & (y_test == 0)).sum()\n",
        "false_negatives = ((y_pred_ensemble == 0) & (y_test == 1)).sum()\n",
        "\n",
        "print(\"\\nError Analysis:\")\n",
        "print(f\"False Positive Rate: {false_positives/total:.4f}\")\n",
        "print(f\"False Negative Rate: {false_negatives/total:.4f}\")"
      ]
    },
    {
      "cell_type": "code",
      "execution_count": 64,
      "metadata": {},
      "outputs": [],
      "source": [
        "import json\n",
        "from datetime import datetime\n",
        "\n",
        "metrics_report = {\n",
        "    'timestamp': datetime.now().strftime(\"%Y-%m-%d %H:%M:%S\"),\n",
        "    'metrics': ensemble_metrics\n",
        "}\n",
        "\n",
        "with open('ensemble_metrics.json', 'w') as f:\n",
        "    json.dump(metrics_report, f, indent=4)"
      ]
    },
    {
      "cell_type": "markdown",
      "metadata": {},
      "source": [
        "## sample test-cases"
      ]
    },
    {
      "cell_type": "code",
      "execution_count": 67,
      "metadata": {},
      "outputs": [
        {
          "name": "stdout",
          "output_type": "stream",
          "text": [
            "Testing Ensemble Model with Sample Inputs:\n",
            "\n",
            "\n",
            "Test Case 1:\n",
            "Subject: Team Meeting Tomorrow\n",
            "Message: Hi everyone, we will have our weekly team meeting tomorrow at 10 AM. Please prepare your updates.\n",
            "\n",
            "Predictions:\n",
            "Ensemble Prediction: Not Spam\n",
            "Individual Model Predictions:\n",
            "SGD: Not Spam\n",
            "SVM: Not Spam\n",
            "RF: Not Spam\n",
            "--------------------------------------------------------------------------------\n",
            "\n",
            "Test Case 2:\n",
            "Subject: WIN $1,000,000 NOW!!!\n",
            "Message: CONGRATULATIONS! Click here to claim your prize money! Limited time offer!!!\n",
            "\n",
            "Predictions:\n",
            "Ensemble Prediction: Spam\n",
            "Individual Model Predictions:\n",
            "SGD: Spam\n",
            "SVM: Spam\n",
            "RF: Spam\n",
            "--------------------------------------------------------------------------------\n",
            "\n",
            "Test Case 3:\n",
            "Subject: Project Update\n",
            "Message: The latest changes have been pushed to the repository. Please review and provide feedback.\n",
            "\n",
            "Predictions:\n",
            "Ensemble Prediction: Not Spam\n",
            "Individual Model Predictions:\n",
            "SGD: Not Spam\n",
            "SVM: Not Spam\n",
            "RF: Not Spam\n",
            "--------------------------------------------------------------------------------\n",
            "\n",
            "Test Case 4:\n",
            "Subject: Hot Singles in Your Area\n",
            "Message: Meet attractive singles near you! Click here for more information...\n",
            "\n",
            "Predictions:\n",
            "Ensemble Prediction: Spam\n",
            "Individual Model Predictions:\n",
            "SGD: Spam\n",
            "SVM: Spam\n",
            "RF: Spam\n",
            "--------------------------------------------------------------------------------\n",
            "\n",
            "Test Case 5:\n",
            "Subject: Invoice #12345\n",
            "Message: Please find attached the invoice for services rendered in July 2023.\n",
            "\n",
            "Predictions:\n",
            "Ensemble Prediction: Not Spam\n",
            "Individual Model Predictions:\n",
            "SGD: Not Spam\n",
            "SVM: Not Spam\n",
            "RF: Not Spam\n",
            "--------------------------------------------------------------------------------\n",
            "\n",
            "Test Case 6:\n",
            "Subject: Cheap Medications!!!\n",
            "Message: Buy prescription drugs at 90% discount! No prescription needed! Order now!\n",
            "\n",
            "Predictions:\n",
            "Ensemble Prediction: Spam\n",
            "Individual Model Predictions:\n",
            "SGD: Spam\n",
            "SVM: Spam\n",
            "RF: Spam\n",
            "--------------------------------------------------------------------------------\n",
            "\n",
            "Testing with DataFrame:\n",
            "                    subject                                            message\n",
            "0     Team Meeting Tomorrow  Hi everyone, we will have our weekly team meet...\n",
            "1     WIN $1,000,000 NOW!!!  CONGRATULATIONS! Click here to claim your priz...\n",
            "2            Project Update  The latest changes have been pushed to the rep...\n",
            "3  Hot Singles in Your Area  Meet attractive singles near you! Click here f...\n",
            "4            Invoice #12345  Please find attached the invoice for services ...\n",
            "5      Cheap Medications!!!  Buy prescription drugs at 90% discount! No pre...\n",
            "\n",
            "Predictions for DataFrame:\n",
            "Row 1: Not Spam\n",
            "Row 2: Spam\n",
            "Row 3: Not Spam\n",
            "Row 4: Spam\n",
            "Row 5: Not Spam\n",
            "Row 6: Spam\n"
          ]
        }
      ],
      "source": [
        "from joblib import load\n",
        "import numpy as np\n",
        "import pandas as pd\n",
        "\n",
        "def load_and_predict(subject, message):\n",
        "    components = load('ensemble_model_components.joblib')\n",
        "    vectorizer = components['vectorizer']\n",
        "    sgd_model = components['sgd_model']\n",
        "    svm_model = components['svm_model']\n",
        "    rf_model = components['rf_model']\n",
        "    \n",
        "    text = f\"{subject} {message}\"\n",
        "    features = vectorizer.transform([text])\n",
        "    \n",
        "    pred_sgd = sgd_model.predict(features)\n",
        "    pred_svm = svm_model.predict(features)\n",
        "    pred_rf = rf_model.predict(features)\n",
        "    predictions = np.array([pred_sgd, pred_svm, pred_rf])\n",
        "    ensemble_pred = np.apply_along_axis(\n",
        "        lambda x: np.bincount(x.astype(int)).argmax(), \n",
        "        axis=0, \n",
        "        arr=predictions\n",
        "    )\n",
        "\n",
        "    individual_predictions = {\n",
        "        'SGD': 'Spam' if pred_sgd[0] == 1 else 'Not Spam',\n",
        "        'SVM': 'Spam' if pred_svm[0] == 1 else 'Not Spam',\n",
        "        'RF': 'Spam' if pred_rf[0] == 1 else 'Not Spam'\n",
        "    }\n",
        "    \n",
        "    return \"Spam\" if ensemble_pred[0] == 1 else \"Not Spam\", individual_predictions\n",
        "\n",
        "test_cases = [\n",
        "    {\n",
        "        'subject': 'Team Meeting Tomorrow',\n",
        "        'message': 'Hi everyone, we will have our weekly team meeting tomorrow at 10 AM. Please prepare your updates.'\n",
        "    },\n",
        "    {\n",
        "        'subject': 'WIN $1,000,000 NOW!!!',\n",
        "        'message': 'CONGRATULATIONS! Click here to claim your prize money! Limited time offer!!!'\n",
        "    },\n",
        "    {\n",
        "        'subject': 'Project Update',\n",
        "        'message': 'The latest changes have been pushed to the repository. Please review and provide feedback.'\n",
        "    },\n",
        "    {\n",
        "        'subject': 'Hot Singles in Your Area',\n",
        "        'message': 'Meet attractive singles near you! Click here for more information...'\n",
        "    },\n",
        "    {\n",
        "        'subject': 'Invoice #12345',\n",
        "        'message': 'Please find attached the invoice for services rendered in July 2023.'\n",
        "    },\n",
        "    {\n",
        "        'subject': 'Cheap Medications!!!',\n",
        "        'message': 'Buy prescription drugs at 90% discount! No prescription needed! Order now!'\n",
        "    }\n",
        "]\n",
        "\n",
        "print(\"Testing Ensemble Model with Sample Inputs:\\n\")\n",
        "for i, test in enumerate(test_cases, 1):\n",
        "    ensemble_result, individual_results = load_and_predict(test['subject'], test['message'])\n",
        "    \n",
        "    print(f\"\\nTest Case {i}:\")\n",
        "    print(f\"Subject: {test['subject']}\")\n",
        "    print(f\"Message: {test['message']}\")\n",
        "    print(\"\\nPredictions:\")\n",
        "    print(f\"Ensemble Prediction: {ensemble_result}\")\n",
        "    print(\"Individual Model Predictions:\")\n",
        "    for model, pred in individual_results.items():\n",
        "        print(f\"{model}: {pred}\")\n",
        "    print(\"-\" * 80)\n",
        "\n",
        "sample_df = pd.DataFrame(test_cases)\n",
        "print(\"\\nTesting with DataFrame:\")\n",
        "print(sample_df)\n",
        "print(\"\\nPredictions for DataFrame:\")\n",
        "for idx, row in sample_df.iterrows():\n",
        "    result, _ = load_and_predict(row['subject'], row['message'])\n",
        "    print(f\"Row {idx + 1}: {result}\")"
      ]
    },
    {
      "cell_type": "code",
      "execution_count": null,
      "metadata": {},
      "outputs": [],
      "source": []
    }
  ],
  "metadata": {
    "colab": {
      "provenance": []
    },
    "kernelspec": {
      "display_name": "Python 3",
      "name": "python3"
    },
    "language_info": {
      "codemirror_mode": {
        "name": "ipython",
        "version": 3
      },
      "file_extension": ".py",
      "mimetype": "text/x-python",
      "name": "python",
      "nbconvert_exporter": "python",
      "pygments_lexer": "ipython3",
      "version": "3.10.12"
    }
  },
  "nbformat": 4,
  "nbformat_minor": 0
}
